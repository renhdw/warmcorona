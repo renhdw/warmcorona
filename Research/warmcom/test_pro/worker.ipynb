{
 "cells": [
  {
   "cell_type": "code",
   "execution_count": 3,
   "id": "532cdd5b-5b65-4e1f-b420-826e8219a6e1",
   "metadata": {},
   "outputs": [
    {
     "ename": "ModuleNotFoundError",
     "evalue": "No module named 'control_monk_mkdir_xspec_mpi'",
     "output_type": "error",
     "traceback": [
      "\u001b[1;31m---------------------------------------------------------------------------\u001b[0m",
      "\u001b[1;31mModuleNotFoundError\u001b[0m                       Traceback (most recent call last)",
      "Cell \u001b[1;32mIn[3], line 2\u001b[0m\n\u001b[0;32m      1\u001b[0m \u001b[38;5;28;01mimport\u001b[39;00m \u001b[38;5;21;01mos\u001b[39;00m\n\u001b[1;32m----> 2\u001b[0m \u001b[38;5;28;01mfrom\u001b[39;00m \u001b[38;5;21;01mcontrol_monk_mkdir_xspec_mpi\u001b[39;00m \u001b[38;5;28;01mimport\u001b[39;00m run_wsl_command, run_sphere_program, run_calspec_program \n\u001b[0;32m      3\u001b[0m \u001b[38;5;66;03m# 新加入的代码\u001b[39;00m\n\u001b[0;32m      4\u001b[0m \u001b[38;5;28;01mdef\u001b[39;00m \u001b[38;5;21mprocess_point\u001b[39m(te_index, tau_index, te_value, tau_value, te_parts, tau_parts,\n\u001b[0;32m      5\u001b[0m                   base_file_path_linux, params_path, calspec_parameter,\n\u001b[0;32m      6\u001b[0m                   selected_points):\n",
      "\u001b[1;31mModuleNotFoundError\u001b[0m: No module named 'control_monk_mkdir_xspec_mpi'"
     ]
    }
   ],
   "source": [
    "import os\n",
    "from control_monk_mkdir_xspec_mpi import run_wsl_command, run_sphere_program, run_calspec_program \n",
    "# 新加入的代码\n",
    "def process_point(te_index, tau_index, te_value, tau_value, te_parts, tau_parts,\n",
    "                  base_file_path_linux, params_path, calspec_parameter,\n",
    "                  selected_points):\n",
    "\n",
    "    folder_name = f\"te_{te_value:.3f}_tau_{tau_value:.3f}\"\n",
    "    folder = os.path.join(base_file_path_linux , 'data', folder_name).replace('\\\\', '/')\n",
    "    sphere_folder = os.path.join(folder, 'sphere').replace('\\\\', '/')\n",
    "    calspec_folder = os.path.join(folder, 'calspec').replace('\\\\', '/')\n",
    "    sphere_params_path = os.path.join(sphere_folder, 'params.txt').replace('\\\\', '/')\n",
    "\n",
    "    run_wsl_command(f\"mkdir -p '{folder}'\")\n",
    "    run_wsl_command(f\"mkdir -p '{sphere_folder}' '{calspec_folder}'\")\n",
    "    run_wsl_command(f\"cp '{params_path}' '{sphere_params_path}'\")\n",
    "    run_wsl_command(f\"sed -i '2s/.*/te = {te_value:.3f}/' '{sphere_params_path}'\")\n",
    "    run_wsl_command(f\"sed -i '3s/.*/tau = {tau_value:.3f}/' '{sphere_params_path}'\")\n",
    "\n",
    "    run_sphere_program(sphere_folder)\n",
    "    run_calspec_program(calspec_folder, calspec_parameter)\n",
    "\n",
    "    is_selected = (te_index, tau_index) in selected_points\n",
    "    if is_selected:\n",
    "        flux_path = os.path.join(calspec_folder, 'flux.dat').replace('\\\\', '/')\n",
    "        en_path = os.path.join(calspec_folder, 'en.dat').replace('\\\\', '/')\n",
    "        de_path = os.path.join(calspec_folder, 'de.dat').replace('\\\\', '/')\n",
    "        tag = f\"te_{te_value:.3f}_tau_{tau_value:.3f}\"\n",
    "        return (flux_path, en_path, de_path, tag)\n",
    "    return None\n"
   ]
  },
  {
   "cell_type": "code",
   "execution_count": null,
   "id": "612fae5c-0392-4394-affa-07cf7f645f38",
   "metadata": {},
   "outputs": [],
   "source": []
  }
 ],
 "metadata": {
  "kernelspec": {
   "display_name": "Python 3 (ipykernel)",
   "language": "python",
   "name": "python3"
  },
  "language_info": {
   "codemirror_mode": {
    "name": "ipython",
    "version": 3
   },
   "file_extension": ".py",
   "mimetype": "text/x-python",
   "name": "python",
   "nbconvert_exporter": "python",
   "pygments_lexer": "ipython3",
   "version": "3.12.3"
  }
 },
 "nbformat": 4,
 "nbformat_minor": 5
}
