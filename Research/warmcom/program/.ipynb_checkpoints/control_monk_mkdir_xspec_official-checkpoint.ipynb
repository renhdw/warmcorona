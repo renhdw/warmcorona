{
 "cells": [
  {
   "cell_type": "code",
   "execution_count": 1,
   "id": "23561168-4391-4d7e-ae56-9222866b6f43",
   "metadata": {},
   "outputs": [],
   "source": [
    "import subprocess\n",
    "import os\n",
    "import random\n",
    "from tqdm import tqdm\n",
    "import time"
   ]
  },
  {
   "cell_type": "code",
   "execution_count": 3,
   "id": "21a4447e-817d-4ee1-9c8c-0026d73ceeac",
   "metadata": {},
   "outputs": [],
   "source": [
    "def run_wsl_command(command):\n",
    "    \"\"\"\n",
    "    运行 WSL 命令\n",
    "    \"\"\"\n",
    "    subprocess.run(f'wsl {command}', shell=True)\n"
   ]
  },
  {
   "cell_type": "code",
   "execution_count": 5,
   "id": "2ec5d9f9-83e3-4553-8d2b-a9b72fa2357a",
   "metadata": {},
   "outputs": [],
   "source": [
    "def run_sphere_program(sphere_folder):\n",
    "    \"\"\"\n",
    "    运行 sphere 程序\n",
    "    \"\"\"\n",
    "    command = f\"cd '{sphere_folder}' ; sleep 0.01 ; /home/hdw/data/monk/monk_for_rhy/bin/sphere\"\n",
    "    process = subprocess.Popen(f'wsl {command}', shell=True)\n",
    "\n",
    "    while True:\n",
    "        if process.poll() is not None:\n",
    "            print(f\"'sphere' program in '{sphere_folder}' has finished.\")\n",
    "            break\n",
    "\n",
    "    return process.returncode\n"
   ]
  },
  {
   "cell_type": "code",
   "execution_count": 7,
   "id": "9d21d48a-7531-41c5-96ca-b60ea770ce64",
   "metadata": {},
   "outputs": [],
   "source": [
    "def run_calspec_program(calspec_folder, calspec_parameter):\n",
    "    \"\"\"\n",
    "    运行 calspec 程序\n",
    "    \"\"\"\n",
    "    command = f\"cd '{calspec_folder}' && /home/hdw/data/monk/monk_for_rhy/bin/calspec ../sphere/ {calspec_parameter}\"\n",
    "    result = subprocess.run([\"wsl\", \"bash\", \"-c\", command], capture_output=True, text=True)\n",
    "\n",
    "    if result.returncode != 0:\n",
    "        print(\"calspec error\")\n",
    "        print(result.stderr)\n",
    "        return\n",
    "\n",
    "    time.sleep(0.05)\n",
    "\n",
    "    print(f\"'calspec' program in '{calspec_folder}' has finished.\")\n",
    "    print(\"calspec output:\")\n",
    "    print(result.stdout)\n"
   ]
  },
  {
   "cell_type": "code",
   "execution_count": 9,
   "id": "48ef77ee-4b5f-4a06-ab1a-92d135d7fc22",
   "metadata": {},
   "outputs": [],
   "source": [
    "def choose_points(selection_method, selection_ratio, te_parts, tau_parts, te_lower_bound, te_upper_bound, tau_lower_bound, tau_upper_bound, random_seed=None):\n",
    "    \"\"\"\n",
    "    选择数据点的行或列\n",
    "    \"\"\"\n",
    "    selected_points = []\n",
    "\n",
    "    if selection_method == 'random':  # 随机选点\n",
    "        total_points = te_parts * tau_parts\n",
    "        selected_points_count = round(total_points * selection_ratio)\n",
    "\n",
    "        if random_seed is not None:\n",
    "            random.seed(random_seed)\n",
    "\n",
    "        all_points = [(i, j) for i in range(te_parts) for j in range(tau_parts)]\n",
    "        selected_points = random.sample(all_points, selected_points_count)\n",
    "\n",
    "    elif selection_method == 'row':  # 等差选行\n",
    "        selected_rows = round(te_parts * selection_ratio)\n",
    "        # 计算最接近选取比例的行数\n",
    "        selected_rows = int(selected_rows + 0.5) if (selected_rows + 0.5) > selected_rows else int(selected_rows)\n",
    "\n",
    "        for i in range(selected_rows):\n",
    "            for j in range(tau_parts):\n",
    "                selected_points.append((i, j))\n",
    "\n",
    "    elif selection_method == 'column':  # 等差选列\n",
    "        selected_columns = round(tau_parts * selection_ratio)\n",
    "        # 计算最接近选取比例的列数\n",
    "        selected_columns = int(selected_columns + 0.5) if (selected_columns + 0.5) > selected_columns else int(selected_columns)\n",
    "\n",
    "        for i in range(te_parts):\n",
    "            for j in range(selected_columns):\n",
    "                selected_points.append((i, j))\n",
    "\n",
    "    elif selection_method == 'all':  # 全选点\n",
    "        for i in range(te_parts):\n",
    "            for j in range(tau_parts):\n",
    "                selected_points.append((i, j))\n",
    "\n",
    "    # 保存边界点的行和列\n",
    "    for i in range(te_parts):\n",
    "        selected_points.append((i, 0))  # 第一列\n",
    "        selected_points.append((i, tau_parts-1))  # 最后一列\n",
    "    for j in range(tau_parts):\n",
    "        selected_points.append((0, j))  # 第一行\n",
    "        selected_points.append((te_parts-1, j))  # 最后一行\n",
    "\n",
    "    return selected_points\n",
    "\n"
   ]
  },
  {
   "cell_type": "code",
   "execution_count": 11,
   "id": "a4220ec1-8e9e-4993-a8f5-6f62795ca48c",
   "metadata": {},
   "outputs": [],
   "source": [
    "def create_folders(te_lower_bound, te_upper_bound, tau_lower_bound, tau_upper_bound, te_parts, tau_parts,\n",
    "                   calspec_parameter, selection_method, selection_ratio, random_seed):\n",
    "    \"\"\"\n",
    "    创建文件夹并运行程序\n",
    "    \"\"\"\n",
    "    start_time = time.time()\n",
    "\n",
    "    te_values = [te_lower_bound + (te_upper_bound - te_lower_bound) * i / (te_parts - 1) for i in range(te_parts)]\n",
    "    tau_values = [tau_lower_bound + (tau_upper_bound - tau_lower_bound) * i / (tau_parts - 1) for i in range(tau_parts)]\n",
    "\n",
    "    num_folders = te_parts * tau_parts\n",
    "\n",
    "    # 选择数据点的行或列\n",
    "    selected_points = choose_points(selection_method, selection_ratio, te_parts, tau_parts, te_lower_bound, te_upper_bound, tau_lower_bound, tau_upper_bound, random_seed)\n",
    "    # official_1000_point有10e5光子点。\n",
    "    # 创建 log 文件\n",
    "    \n",
    "    base_file_path = r'\\\\wsl.localhost\\Ubuntu-22.04\\home\\hdw\\data\\monk\\plot\\warmcorona\\test\\test_smooth_10_6\\data'\n",
    "    \n",
    "    log_file_path = os.path.join(base_file_path , \"control.log\")\n",
    "#    log_file_path = r'\\\\wsl.localhost\\Ubuntu-22.04\\home\\hdw\\data\\monk\\plot\\warmcorona\\test\\test_smooth\\data\\control.log'\n",
    "    log_file = open(log_file_path, 'w')\n",
    "\n",
    "    log_file.write(f\"te_lower_bound: {te_lower_bound}\\n\")\n",
    "    log_file.write(f\"te_upper_bound: {te_upper_bound}\\n\")\n",
    "    log_file.write(f\"tau_lower_bound: {tau_lower_bound}\\n\")\n",
    "    log_file.write(f\"tau_upper_bound: {tau_upper_bound}\\n\")\n",
    "    log_file.write(f\"te_parts: {te_parts}\\n\")\n",
    "    log_file.write(f\"tau_parts: {tau_parts}\\n\")\n",
    "    log_file.write(f\"calspec_parameter: {calspec_parameter}\\n\")\n",
    "    log_file.write(f\"Total_number_of_folders: {num_folders}\\n\")\n",
    "\n",
    "    # 添加选点记录的文件\n",
    "    chose_log_file_path = os.path.join(base_file_path,\"chose.log\")\n",
    "#    chose_log_file_path = r'\\\\wsl.localhost\\Ubuntu-22.04\\home\\hdw\\data\\monk\\plot\\warmcorona\\test\\test_smooth\\data\\chose.log'\n",
    "    chose_log_file = open(chose_log_file_path, 'w')\n",
    "\n",
    "    chose_log_file.write(f\"Selection Method: {selection_method}\\n\")\n",
    "    chose_log_file.write(f\"Selection Ratio: {selection_ratio}\\n\")\n",
    "    chose_log_file.write(f\"Random Seed: {random_seed}\\n\")\n",
    "\n",
    "    # 添加 Xspec_flux 记录的文件\n",
    "    xspec_flux_log_file_path = os.path.join(base_file_path,\"Xspec_flux.log\")\n",
    "#    xspec_flux_log_file_path = r'\\\\wsl.localhost\\Ubuntu-22.04\\home\\hdw\\data\\monk\\plot\\warmcorona\\test\\test_smooth\\data\\Xspec_flux.log'\n",
    "    xspec_flux_log_file = open(xspec_flux_log_file_path, 'w')\n",
    "\n",
    "    for i in tqdm(range(num_folders), desc=\"进度\", unit=\"文件夹\"):\n",
    "        te_index = i // tau_parts\n",
    "        tau_index = i % tau_parts\n",
    "\n",
    "        te_value = te_values[te_index]\n",
    "        tau_value = tau_values[tau_index]\n",
    "\n",
    "        folder_name = f\"te_{te_value:.3f}_tau_{tau_value:.3f}\"\n",
    "\n",
    "        base_file_path_linux = r'/home/hdw/data/monk/plot/warmcorona/test/test_smooth_10_6' \n",
    "        \n",
    "        folder = os.path.join(base_file_path_linux , 'data', folder_name).replace('\\\\', '/')\n",
    "        sphere_folder = os.path.join(folder, 'sphere').replace('\\\\', '/')\n",
    "        calspec_folder = os.path.join(folder, 'calspec').replace('\\\\', '/')\n",
    "        params_path = os.path.join(base_file_path_linux , 'params.txt').replace('\\\\', '/')\n",
    "        sphere_params_path = os.path.join(sphere_folder, 'params.txt').replace('\\\\', '/')\n",
    "\n",
    "        command = f\"mkdir -p '{folder}'\"\n",
    "        run_wsl_command(command)\n",
    "\n",
    "        command = f\"mkdir -p '{sphere_folder}' '{calspec_folder}'\"\n",
    "        run_wsl_command(command)\n",
    "\n",
    "        command = f\"cp '{params_path}' '{sphere_params_path}'\"\n",
    "        run_wsl_command(command)\n",
    "\n",
    "        command = f\"sed -i '2s/.*/te = {te_value:.3f}/' '{sphere_params_path}'\"\n",
    "        run_wsl_command(command)\n",
    "\n",
    "        command = f\"sed -i '3s/.*/tau = {tau_value:.3f}/' '{sphere_params_path}'\"\n",
    "        run_wsl_command(command)\n",
    "\n",
    "        run_sphere_program(sphere_folder)\n",
    "\n",
    "        run_calspec_program(calspec_folder, calspec_parameter)\n",
    "\n",
    "        # 记录被选为数据点的文件夹\n",
    "        if (te_index, tau_index) in selected_points:\n",
    "            xspec_flux_log_file.write(os.path.join(calspec_folder, 'flux.dat').replace('\\\\', '/') + '\\n')\n",
    "            xspec_flux_log_file.write(os.path.join(calspec_folder, 'en.dat').replace('\\\\', '/') + '\\n')\n",
    "            xspec_flux_log_file.write(os.path.join(calspec_folder, 'de.dat').replace('\\\\', '/') + '\\n\\n')\n",
    "            chose_log_file.write(f\"te_{te_value:.3f}_tau_{tau_value:.3f}\\n\")\n",
    "\n",
    "    log_file.write(f\"\\n运行时间: {time.time() - start_time}秒\\n\")\n",
    "    log_file.close()\n",
    "    chose_log_file.close()\n",
    "    xspec_flux_log_file.close()\n",
    "\n",
    "    print(f\"运行时间：{time.time() - start_time} s\")\n"
   ]
  },
  {
   "cell_type": "code",
   "execution_count": 13,
   "id": "97467620-d322-4c76-8b56-841adf77834f",
   "metadata": {},
   "outputs": [
    {
     "name": "stdin",
     "output_type": "stream",
     "text": [
      "请输入是否是测试阶段（1是，0否）： 0\n",
      "请输入te的区间下限： 1.9\n",
      "请输入te的区间上限： 2\n",
      "请输入tau的区间下限： 10\n",
      "请输入tau的区间上限： 15\n",
      "请输入te的份数： 2\n",
      "请输入tau的份数： 51\n",
      "请输入calspec的参数（三个数字，用空格分隔）： -200 0.01 100\n",
      "请选择选点方式（row: 等差选行, column: 等差选列, random: 随机选点, all: 全选点）： all\n"
     ]
    },
    {
     "name": "stderr",
     "output_type": "stream",
     "text": [
      "进度:   0%|          | 0/102 [00:00<?, ?文件夹/s]"
     ]
    },
    {
     "name": "stdout",
     "output_type": "stream",
     "text": [
      "'sphere' program in '/home/hdw/data/monk/plot/warmcorona/test/test_smooth_10_6/data/te_1.900_tau_10.000/sphere' has finished.\n"
     ]
    },
    {
     "name": "stderr",
     "output_type": "stream",
     "text": [
      "进度:   1%|          | 1/102 [01:54<3:12:26, 114.32s/文件夹]"
     ]
    },
    {
     "name": "stdout",
     "output_type": "stream",
     "text": [
      "'calspec' program in '/home/hdw/data/monk/plot/warmcorona/test/test_smooth_10_6/data/te_1.900_tau_10.000/calspec' has finished.\n",
      "calspec output:\n",
      "linear = 0\n",
      "linear = 0\n",
      "linear = 0\n",
      "\n"
     ]
    },
    {
     "name": "stderr",
     "output_type": "stream",
     "text": [
      "进度:   2%|▏         | 2/102 [03:49<3:11:37, 114.98s/文件夹]"
     ]
    },
    {
     "name": "stdout",
     "output_type": "stream",
     "text": [
      "'sphere' program in '/home/hdw/data/monk/plot/warmcorona/test/test_smooth_10_6/data/te_1.900_tau_10.100/sphere' has finished.\n",
      "'calspec' program in '/home/hdw/data/monk/plot/warmcorona/test/test_smooth_10_6/data/te_1.900_tau_10.100/calspec' has finished.\n",
      "calspec output:\n",
      "linear = 0\n",
      "linear = 0\n",
      "linear = 0\n",
      "\n"
     ]
    },
    {
     "name": "stderr",
     "output_type": "stream",
     "text": [
      "进度:   3%|▎         | 3/102 [05:46<3:11:20, 115.97s/文件夹]"
     ]
    },
    {
     "name": "stdout",
     "output_type": "stream",
     "text": [
      "'sphere' program in '/home/hdw/data/monk/plot/warmcorona/test/test_smooth_10_6/data/te_1.900_tau_10.200/sphere' has finished.\n",
      "'calspec' program in '/home/hdw/data/monk/plot/warmcorona/test/test_smooth_10_6/data/te_1.900_tau_10.200/calspec' has finished.\n",
      "calspec output:\n",
      "linear = 0\n",
      "linear = 0\n",
      "linear = 0\n",
      "\n",
      "'sphere' program in '/home/hdw/data/monk/plot/warmcorona/test/test_smooth_10_6/data/te_1.900_tau_10.300/sphere' has finished.\n",
      "'calspec' program in '/home/hdw/data/monk/plot/warmcorona/test/test_smooth_10_6/data/te_1.900_tau_10.300/calspec' has finished.\n",
      "calspec output:\n",
      "linear = 0\n",
      "linear = 0\n",
      "linear = 0\n",
      "\n"
     ]
    },
    {
     "name": "stderr",
     "output_type": "stream",
     "text": [
      "进度:   5%|▍         | 5/102 [09:47<3:12:04, 118.81s/文件夹]"
     ]
    },
    {
     "name": "stdout",
     "output_type": "stream",
     "text": [
      "'sphere' program in '/home/hdw/data/monk/plot/warmcorona/test/test_smooth_10_6/data/te_1.900_tau_10.400/sphere' has finished.\n",
      "'calspec' program in '/home/hdw/data/monk/plot/warmcorona/test/test_smooth_10_6/data/te_1.900_tau_10.400/calspec' has finished.\n",
      "calspec output:\n",
      "linear = 0\n",
      "linear = 0\n",
      "linear = 0\n",
      "\n",
      "'sphere' program in '/home/hdw/data/monk/plot/warmcorona/test/test_smooth_10_6/data/te_1.900_tau_10.500/sphere' has finished.\n"
     ]
    },
    {
     "name": "stderr",
     "output_type": "stream",
     "text": [
      "进度:   6%|▌         | 6/102 [11:51<3:12:35, 120.37s/文件夹]"
     ]
    },
    {
     "name": "stdout",
     "output_type": "stream",
     "text": [
      "'calspec' program in '/home/hdw/data/monk/plot/warmcorona/test/test_smooth_10_6/data/te_1.900_tau_10.500/calspec' has finished.\n",
      "calspec output:\n",
      "linear = 0\n",
      "linear = 0\n",
      "linear = 0\n",
      "\n",
      "'sphere' program in '/home/hdw/data/monk/plot/warmcorona/test/test_smooth_10_6/data/te_1.900_tau_10.600/sphere' has finished.\n"
     ]
    },
    {
     "name": "stderr",
     "output_type": "stream",
     "text": [
      "进度:   7%|▋         | 7/102 [13:56<3:13:18, 122.09s/文件夹]"
     ]
    },
    {
     "name": "stdout",
     "output_type": "stream",
     "text": [
      "'calspec' program in '/home/hdw/data/monk/plot/warmcorona/test/test_smooth_10_6/data/te_1.900_tau_10.600/calspec' has finished.\n",
      "calspec output:\n",
      "linear = 0\n",
      "linear = 0\n",
      "linear = 0\n",
      "\n"
     ]
    },
    {
     "name": "stderr",
     "output_type": "stream",
     "text": [
      "进度:   8%|▊         | 8/102 [16:04<3:14:12, 123.96s/文件夹]"
     ]
    },
    {
     "name": "stdout",
     "output_type": "stream",
     "text": [
      "'sphere' program in '/home/hdw/data/monk/plot/warmcorona/test/test_smooth_10_6/data/te_1.900_tau_10.700/sphere' has finished.\n",
      "'calspec' program in '/home/hdw/data/monk/plot/warmcorona/test/test_smooth_10_6/data/te_1.900_tau_10.700/calspec' has finished.\n",
      "calspec output:\n",
      "linear = 0\n",
      "linear = 0\n",
      "linear = 0\n",
      "\n",
      "'sphere' program in '/home/hdw/data/monk/plot/warmcorona/test/test_smooth_10_6/data/te_1.900_tau_10.800/sphere' has finished.\n"
     ]
    },
    {
     "name": "stderr",
     "output_type": "stream",
     "text": [
      "进度:   9%|▉         | 9/102 [18:13<3:14:43, 125.62s/文件夹]"
     ]
    },
    {
     "name": "stdout",
     "output_type": "stream",
     "text": [
      "'calspec' program in '/home/hdw/data/monk/plot/warmcorona/test/test_smooth_10_6/data/te_1.900_tau_10.800/calspec' has finished.\n",
      "calspec output:\n",
      "linear = 0\n",
      "linear = 0\n",
      "linear = 0\n",
      "\n"
     ]
    },
    {
     "name": "stderr",
     "output_type": "stream",
     "text": [
      "进度:  10%|▉         | 10/102 [20:25<3:15:31, 127.52s/文件夹]"
     ]
    },
    {
     "name": "stdout",
     "output_type": "stream",
     "text": [
      "'sphere' program in '/home/hdw/data/monk/plot/warmcorona/test/test_smooth_10_6/data/te_1.900_tau_10.900/sphere' has finished.\n",
      "'calspec' program in '/home/hdw/data/monk/plot/warmcorona/test/test_smooth_10_6/data/te_1.900_tau_10.900/calspec' has finished.\n",
      "calspec output:\n",
      "linear = 0\n",
      "linear = 0\n",
      "linear = 0\n",
      "\n",
      "'sphere' program in '/home/hdw/data/monk/plot/warmcorona/test/test_smooth_10_6/data/te_1.900_tau_11.000/sphere' has finished.\n"
     ]
    },
    {
     "name": "stderr",
     "output_type": "stream",
     "text": [
      "进度:  11%|█         | 11/102 [22:39<3:16:24, 129.50s/文件夹]"
     ]
    },
    {
     "name": "stdout",
     "output_type": "stream",
     "text": [
      "'calspec' program in '/home/hdw/data/monk/plot/warmcorona/test/test_smooth_10_6/data/te_1.900_tau_11.000/calspec' has finished.\n",
      "calspec output:\n",
      "linear = 0\n",
      "linear = 0\n",
      "linear = 0\n",
      "\n",
      "'sphere' program in '/home/hdw/data/monk/plot/warmcorona/test/test_smooth_10_6/data/te_1.900_tau_11.100/sphere' has finished.\n"
     ]
    },
    {
     "name": "stderr",
     "output_type": "stream",
     "text": [
      "进度:  12%|█▏        | 12/102 [24:55<3:17:16, 131.52s/文件夹]"
     ]
    },
    {
     "name": "stdout",
     "output_type": "stream",
     "text": [
      "'calspec' program in '/home/hdw/data/monk/plot/warmcorona/test/test_smooth_10_6/data/te_1.900_tau_11.100/calspec' has finished.\n",
      "calspec output:\n",
      "linear = 0\n",
      "linear = 0\n",
      "linear = 0\n",
      "\n",
      "'sphere' program in '/home/hdw/data/monk/plot/warmcorona/test/test_smooth_10_6/data/te_1.900_tau_11.200/sphere' has finished.\n"
     ]
    },
    {
     "name": "stderr",
     "output_type": "stream",
     "text": [
      "进度:  13%|█▎        | 13/102 [27:14<3:18:25, 133.77s/文件夹]"
     ]
    },
    {
     "name": "stdout",
     "output_type": "stream",
     "text": [
      "'calspec' program in '/home/hdw/data/monk/plot/warmcorona/test/test_smooth_10_6/data/te_1.900_tau_11.200/calspec' has finished.\n",
      "calspec output:\n",
      "linear = 0\n",
      "linear = 0\n",
      "linear = 0\n",
      "\n",
      "'sphere' program in '/home/hdw/data/monk/plot/warmcorona/test/test_smooth_10_6/data/te_1.900_tau_11.300/sphere' has finished.\n"
     ]
    },
    {
     "name": "stderr",
     "output_type": "stream",
     "text": [
      "进度:  14%|█▎        | 14/102 [29:35<3:19:05, 135.75s/文件夹]"
     ]
    },
    {
     "name": "stdout",
     "output_type": "stream",
     "text": [
      "'calspec' program in '/home/hdw/data/monk/plot/warmcorona/test/test_smooth_10_6/data/te_1.900_tau_11.300/calspec' has finished.\n",
      "calspec output:\n",
      "linear = 0\n",
      "linear = 0\n",
      "linear = 0\n",
      "\n",
      "'sphere' program in '/home/hdw/data/monk/plot/warmcorona/test/test_smooth_10_6/data/te_1.900_tau_11.400/sphere' has finished.\n"
     ]
    },
    {
     "name": "stderr",
     "output_type": "stream",
     "text": [
      "进度:  15%|█▍        | 15/102 [31:58<3:20:04, 137.98s/文件夹]"
     ]
    },
    {
     "name": "stdout",
     "output_type": "stream",
     "text": [
      "'calspec' program in '/home/hdw/data/monk/plot/warmcorona/test/test_smooth_10_6/data/te_1.900_tau_11.400/calspec' has finished.\n",
      "calspec output:\n",
      "linear = 0\n",
      "linear = 0\n",
      "linear = 0\n",
      "\n"
     ]
    },
    {
     "name": "stderr",
     "output_type": "stream",
     "text": [
      "进度:  16%|█▌        | 16/102 [34:23<3:20:54, 140.17s/文件夹]"
     ]
    },
    {
     "name": "stdout",
     "output_type": "stream",
     "text": [
      "'sphere' program in '/home/hdw/data/monk/plot/warmcorona/test/test_smooth_10_6/data/te_1.900_tau_11.500/sphere' has finished.\n",
      "'calspec' program in '/home/hdw/data/monk/plot/warmcorona/test/test_smooth_10_6/data/te_1.900_tau_11.500/calspec' has finished.\n",
      "calspec output:\n",
      "linear = 0\n",
      "linear = 0\n",
      "linear = 0\n",
      "\n",
      "'sphere' program in '/home/hdw/data/monk/plot/warmcorona/test/test_smooth_10_6/data/te_1.900_tau_11.600/sphere' has finished.\n"
     ]
    },
    {
     "name": "stderr",
     "output_type": "stream",
     "text": [
      "进度:  17%|█▋        | 17/102 [36:51<3:21:56, 142.54s/文件夹]"
     ]
    },
    {
     "name": "stdout",
     "output_type": "stream",
     "text": [
      "'calspec' program in '/home/hdw/data/monk/plot/warmcorona/test/test_smooth_10_6/data/te_1.900_tau_11.600/calspec' has finished.\n",
      "calspec output:\n",
      "linear = 0\n",
      "linear = 0\n",
      "linear = 0\n",
      "\n"
     ]
    },
    {
     "name": "stderr",
     "output_type": "stream",
     "text": [
      "进度:  18%|█▊        | 18/102 [39:21<3:22:47, 144.85s/文件夹]"
     ]
    },
    {
     "name": "stdout",
     "output_type": "stream",
     "text": [
      "'sphere' program in '/home/hdw/data/monk/plot/warmcorona/test/test_smooth_10_6/data/te_1.900_tau_11.700/sphere' has finished.\n",
      "'calspec' program in '/home/hdw/data/monk/plot/warmcorona/test/test_smooth_10_6/data/te_1.900_tau_11.700/calspec' has finished.\n",
      "calspec output:\n",
      "linear = 0\n",
      "linear = 0\n",
      "linear = 0\n",
      "\n",
      "'sphere' program in '/home/hdw/data/monk/plot/warmcorona/test/test_smooth_10_6/data/te_1.900_tau_11.800/sphere' has finished.\n"
     ]
    },
    {
     "name": "stderr",
     "output_type": "stream",
     "text": [
      "进度:  19%|█▊        | 19/102 [41:53<3:23:20, 146.99s/文件夹]"
     ]
    },
    {
     "name": "stdout",
     "output_type": "stream",
     "text": [
      "'calspec' program in '/home/hdw/data/monk/plot/warmcorona/test/test_smooth_10_6/data/te_1.900_tau_11.800/calspec' has finished.\n",
      "calspec output:\n",
      "linear = 0\n",
      "linear = 0\n",
      "linear = 0\n",
      "\n"
     ]
    },
    {
     "name": "stderr",
     "output_type": "stream",
     "text": [
      "进度:  20%|█▉        | 20/102 [44:28<3:23:54, 149.20s/文件夹]"
     ]
    },
    {
     "name": "stdout",
     "output_type": "stream",
     "text": [
      "'sphere' program in '/home/hdw/data/monk/plot/warmcorona/test/test_smooth_10_6/data/te_1.900_tau_11.900/sphere' has finished.\n",
      "'calspec' program in '/home/hdw/data/monk/plot/warmcorona/test/test_smooth_10_6/data/te_1.900_tau_11.900/calspec' has finished.\n",
      "calspec output:\n",
      "linear = 0\n",
      "linear = 0\n",
      "linear = 0\n",
      "\n",
      "'sphere' program in '/home/hdw/data/monk/plot/warmcorona/test/test_smooth_10_6/data/te_1.900_tau_12.000/sphere' has finished.\n"
     ]
    },
    {
     "name": "stderr",
     "output_type": "stream",
     "text": [
      "进度:  21%|██        | 21/102 [47:05<3:24:36, 151.56s/文件夹]"
     ]
    },
    {
     "name": "stdout",
     "output_type": "stream",
     "text": [
      "'calspec' program in '/home/hdw/data/monk/plot/warmcorona/test/test_smooth_10_6/data/te_1.900_tau_12.000/calspec' has finished.\n",
      "calspec output:\n",
      "linear = 0\n",
      "linear = 0\n",
      "linear = 0\n",
      "\n",
      "'sphere' program in '/home/hdw/data/monk/plot/warmcorona/test/test_smooth_10_6/data/te_1.900_tau_12.100/sphere' has finished.\n",
      "'calspec' program in '/home/hdw/data/monk/plot/warmcorona/test/test_smooth_10_6/data/te_1.900_tau_12.100/calspec' has finished.\n",
      "calspec output:\n",
      "linear = 0\n",
      "linear = 0\n",
      "linear = 0\n",
      "\n"
     ]
    },
    {
     "name": "stderr",
     "output_type": "stream",
     "text": [
      "进度:  23%|██▎       | 23/102 [52:25<3:25:24, 156.01s/文件夹]"
     ]
    },
    {
     "name": "stdout",
     "output_type": "stream",
     "text": [
      "'sphere' program in '/home/hdw/data/monk/plot/warmcorona/test/test_smooth_10_6/data/te_1.900_tau_12.200/sphere' has finished.\n",
      "'calspec' program in '/home/hdw/data/monk/plot/warmcorona/test/test_smooth_10_6/data/te_1.900_tau_12.200/calspec' has finished.\n",
      "calspec output:\n",
      "linear = 0\n",
      "linear = 0\n",
      "linear = 0\n",
      "\n",
      "'sphere' program in '/home/hdw/data/monk/plot/warmcorona/test/test_smooth_10_6/data/te_1.900_tau_12.300/sphere' has finished.\n"
     ]
    },
    {
     "name": "stderr",
     "output_type": "stream",
     "text": [
      "进度:  24%|██▎       | 24/102 [55:09<3:25:59, 158.46s/文件夹]"
     ]
    },
    {
     "name": "stdout",
     "output_type": "stream",
     "text": [
      "'calspec' program in '/home/hdw/data/monk/plot/warmcorona/test/test_smooth_10_6/data/te_1.900_tau_12.300/calspec' has finished.\n",
      "calspec output:\n",
      "linear = 0\n",
      "linear = 0\n",
      "linear = 0\n",
      "\n"
     ]
    },
    {
     "name": "stderr",
     "output_type": "stream",
     "text": [
      "进度:  25%|██▍       | 25/102 [57:55<3:26:22, 160.81s/文件夹]"
     ]
    },
    {
     "name": "stdout",
     "output_type": "stream",
     "text": [
      "'sphere' program in '/home/hdw/data/monk/plot/warmcorona/test/test_smooth_10_6/data/te_1.900_tau_12.400/sphere' has finished.\n",
      "'calspec' program in '/home/hdw/data/monk/plot/warmcorona/test/test_smooth_10_6/data/te_1.900_tau_12.400/calspec' has finished.\n",
      "calspec output:\n",
      "linear = 0\n",
      "linear = 0\n",
      "linear = 0\n",
      "\n"
     ]
    },
    {
     "name": "stderr",
     "output_type": "stream",
     "text": [
      "进度:  25%|██▌       | 26/102 [1:00:44<3:26:45, 163.23s/文件夹]"
     ]
    },
    {
     "name": "stdout",
     "output_type": "stream",
     "text": [
      "'sphere' program in '/home/hdw/data/monk/plot/warmcorona/test/test_smooth_10_6/data/te_1.900_tau_12.500/sphere' has finished.\n",
      "'calspec' program in '/home/hdw/data/monk/plot/warmcorona/test/test_smooth_10_6/data/te_1.900_tau_12.500/calspec' has finished.\n",
      "calspec output:\n",
      "linear = 0\n",
      "linear = 0\n",
      "linear = 0\n",
      "\n"
     ]
    },
    {
     "name": "stderr",
     "output_type": "stream",
     "text": [
      "进度:  26%|██▋       | 27/102 [1:03:36<3:27:10, 165.74s/文件夹]"
     ]
    },
    {
     "name": "stdout",
     "output_type": "stream",
     "text": [
      "'sphere' program in '/home/hdw/data/monk/plot/warmcorona/test/test_smooth_10_6/data/te_1.900_tau_12.600/sphere' has finished.\n",
      "'calspec' program in '/home/hdw/data/monk/plot/warmcorona/test/test_smooth_10_6/data/te_1.900_tau_12.600/calspec' has finished.\n",
      "calspec output:\n",
      "linear = 0\n",
      "linear = 0\n",
      "linear = 0\n",
      "\n"
     ]
    },
    {
     "name": "stderr",
     "output_type": "stream",
     "text": [
      "进度:  27%|██▋       | 28/102 [1:06:29<3:27:17, 168.08s/文件夹]"
     ]
    },
    {
     "name": "stdout",
     "output_type": "stream",
     "text": [
      "'sphere' program in '/home/hdw/data/monk/plot/warmcorona/test/test_smooth_10_6/data/te_1.900_tau_12.700/sphere' has finished.\n",
      "'calspec' program in '/home/hdw/data/monk/plot/warmcorona/test/test_smooth_10_6/data/te_1.900_tau_12.700/calspec' has finished.\n",
      "calspec output:\n",
      "linear = 0\n",
      "linear = 0\n",
      "linear = 0\n",
      "\n",
      "'sphere' program in '/home/hdw/data/monk/plot/warmcorona/test/test_smooth_10_6/data/te_1.900_tau_12.800/sphere' has finished.\n",
      "'calspec' program in '/home/hdw/data/monk/plot/warmcorona/test/test_smooth_10_6/data/te_1.900_tau_12.800/calspec' has finished.\n",
      "calspec output:\n",
      "linear = 0\n",
      "linear = 0\n",
      "linear = 0\n",
      "\n"
     ]
    },
    {
     "name": "stderr",
     "output_type": "stream",
     "text": [
      "进度:  28%|██▊       | 29/102 [1:09:27<3:27:52, 170.85s/文件夹]"
     ]
    },
    {
     "name": "stdout",
     "output_type": "stream",
     "text": [
      "'sphere' program in '/home/hdw/data/monk/plot/warmcorona/test/test_smooth_10_6/data/te_1.900_tau_12.900/sphere' has finished.\n",
      "'calspec' program in '/home/hdw/data/monk/plot/warmcorona/test/test_smooth_10_6/data/te_1.900_tau_12.900/calspec' has finished.\n",
      "calspec output:\n",
      "linear = 0\n",
      "linear = 0\n",
      "linear = 0\n",
      "\n"
     ]
    },
    {
     "name": "stderr",
     "output_type": "stream",
     "text": [
      "进度:  29%|██▉       | 30/102 [1:12:26<3:27:55, 173.27s/文件夹]"
     ]
    },
    {
     "name": "stdout",
     "output_type": "stream",
     "text": [
      "'sphere' program in '/home/hdw/data/monk/plot/warmcorona/test/test_smooth_10_6/data/te_1.900_tau_13.000/sphere' has finished.\n"
     ]
    },
    {
     "name": "stderr",
     "output_type": "stream",
     "text": [
      "进度:  30%|███       | 31/102 [1:15:28<3:28:24, 176.13s/文件夹]"
     ]
    },
    {
     "name": "stdout",
     "output_type": "stream",
     "text": [
      "'calspec' program in '/home/hdw/data/monk/plot/warmcorona/test/test_smooth_10_6/data/te_1.900_tau_13.000/calspec' has finished.\n",
      "calspec output:\n",
      "linear = 0\n",
      "linear = 0\n",
      "linear = 0\n",
      "\n",
      "'sphere' program in '/home/hdw/data/monk/plot/warmcorona/test/test_smooth_10_6/data/te_1.900_tau_13.100/sphere' has finished.\n"
     ]
    },
    {
     "name": "stderr",
     "output_type": "stream",
     "text": [
      "进度:  31%|███▏      | 32/102 [1:18:34<3:28:38, 178.84s/文件夹]"
     ]
    },
    {
     "name": "stdout",
     "output_type": "stream",
     "text": [
      "'calspec' program in '/home/hdw/data/monk/plot/warmcorona/test/test_smooth_10_6/data/te_1.900_tau_13.100/calspec' has finished.\n",
      "calspec output:\n",
      "linear = 0\n",
      "linear = 0\n",
      "linear = 0\n",
      "\n"
     ]
    },
    {
     "name": "stderr",
     "output_type": "stream",
     "text": [
      "进度:  32%|███▏      | 33/102 [1:21:41<3:28:46, 181.55s/文件夹]"
     ]
    },
    {
     "name": "stdout",
     "output_type": "stream",
     "text": [
      "'sphere' program in '/home/hdw/data/monk/plot/warmcorona/test/test_smooth_10_6/data/te_1.900_tau_13.200/sphere' has finished.\n",
      "'calspec' program in '/home/hdw/data/monk/plot/warmcorona/test/test_smooth_10_6/data/te_1.900_tau_13.200/calspec' has finished.\n",
      "calspec output:\n",
      "linear = 0\n",
      "linear = 0\n",
      "linear = 0\n",
      "\n",
      "'sphere' program in '/home/hdw/data/monk/plot/warmcorona/test/test_smooth_10_6/data/te_1.900_tau_13.300/sphere' has finished.\n",
      "'calspec' program in '/home/hdw/data/monk/plot/warmcorona/test/test_smooth_10_6/data/te_1.900_tau_13.300/calspec' has finished.\n",
      "calspec output:\n",
      "linear = 0\n",
      "linear = 0\n",
      "linear = 0\n",
      "\n"
     ]
    },
    {
     "name": "stderr",
     "output_type": "stream",
     "text": [
      "进度:  34%|███▍      | 35/102 [1:28:05<3:28:35, 186.80s/文件夹]"
     ]
    },
    {
     "name": "stdout",
     "output_type": "stream",
     "text": [
      "'sphere' program in '/home/hdw/data/monk/plot/warmcorona/test/test_smooth_10_6/data/te_1.900_tau_13.400/sphere' has finished.\n",
      "'calspec' program in '/home/hdw/data/monk/plot/warmcorona/test/test_smooth_10_6/data/te_1.900_tau_13.400/calspec' has finished.\n",
      "calspec output:\n",
      "linear = 0\n",
      "linear = 0\n",
      "linear = 0\n",
      "\n",
      "'sphere' program in '/home/hdw/data/monk/plot/warmcorona/test/test_smooth_10_6/data/te_1.900_tau_13.500/sphere' has finished.\n"
     ]
    },
    {
     "name": "stderr",
     "output_type": "stream",
     "text": [
      "进度:  35%|███▌      | 36/102 [1:31:21<3:28:38, 189.67s/文件夹]"
     ]
    },
    {
     "name": "stdout",
     "output_type": "stream",
     "text": [
      "'calspec' program in '/home/hdw/data/monk/plot/warmcorona/test/test_smooth_10_6/data/te_1.900_tau_13.500/calspec' has finished.\n",
      "calspec output:\n",
      "linear = 0\n",
      "linear = 0\n",
      "linear = 0\n",
      "\n"
     ]
    },
    {
     "name": "stderr",
     "output_type": "stream",
     "text": [
      "进度:  36%|███▋      | 37/102 [1:34:40<3:28:22, 192.34s/文件夹]"
     ]
    },
    {
     "name": "stdout",
     "output_type": "stream",
     "text": [
      "'sphere' program in '/home/hdw/data/monk/plot/warmcorona/test/test_smooth_10_6/data/te_1.900_tau_13.600/sphere' has finished.\n",
      "'calspec' program in '/home/hdw/data/monk/plot/warmcorona/test/test_smooth_10_6/data/te_1.900_tau_13.600/calspec' has finished.\n",
      "calspec output:\n",
      "linear = 0\n",
      "linear = 0\n",
      "linear = 0\n",
      "\n",
      "'sphere' program in '/home/hdw/data/monk/plot/warmcorona/test/test_smooth_10_6/data/te_1.900_tau_13.700/sphere' has finished.\n",
      "'calspec' program in '/home/hdw/data/monk/plot/warmcorona/test/test_smooth_10_6/data/te_1.900_tau_13.700/calspec' has finished.\n",
      "calspec output:\n",
      "linear = 0\n",
      "linear = 0\n",
      "linear = 0\n",
      "\n"
     ]
    },
    {
     "name": "stderr",
     "output_type": "stream",
     "text": [
      "进度:  37%|███▋      | 38/102 [1:38:01<3:28:01, 195.02s/文件夹]"
     ]
    },
    {
     "name": "stdout",
     "output_type": "stream",
     "text": [
      "'sphere' program in '/home/hdw/data/monk/plot/warmcorona/test/test_smooth_10_6/data/te_1.900_tau_13.800/sphere' has finished.\n"
     ]
    },
    {
     "name": "stderr",
     "output_type": "stream",
     "text": [
      "进度:  38%|███▊      | 39/102 [1:41:25<3:27:48, 197.91s/文件夹]"
     ]
    },
    {
     "name": "stdout",
     "output_type": "stream",
     "text": [
      "'calspec' program in '/home/hdw/data/monk/plot/warmcorona/test/test_smooth_10_6/data/te_1.900_tau_13.800/calspec' has finished.\n",
      "calspec output:\n",
      "linear = 0\n",
      "linear = 0\n",
      "linear = 0\n",
      "\n"
     ]
    },
    {
     "name": "stderr",
     "output_type": "stream",
     "text": [
      "进度:  39%|███▉      | 40/102 [1:44:53<3:27:22, 200.69s/文件夹]"
     ]
    },
    {
     "name": "stdout",
     "output_type": "stream",
     "text": [
      "'sphere' program in '/home/hdw/data/monk/plot/warmcorona/test/test_smooth_10_6/data/te_1.900_tau_13.900/sphere' has finished.\n",
      "'calspec' program in '/home/hdw/data/monk/plot/warmcorona/test/test_smooth_10_6/data/te_1.900_tau_13.900/calspec' has finished.\n",
      "calspec output:\n",
      "linear = 0\n",
      "linear = 0\n",
      "linear = 0\n",
      "\n",
      "'sphere' program in '/home/hdw/data/monk/plot/warmcorona/test/test_smooth_10_6/data/te_1.900_tau_14.000/sphere' has finished.\n"
     ]
    },
    {
     "name": "stderr",
     "output_type": "stream",
     "text": [
      "进度:  40%|████      | 41/102 [1:48:23<3:26:52, 203.48s/文件夹]"
     ]
    },
    {
     "name": "stdout",
     "output_type": "stream",
     "text": [
      "'calspec' program in '/home/hdw/data/monk/plot/warmcorona/test/test_smooth_10_6/data/te_1.900_tau_14.000/calspec' has finished.\n",
      "calspec output:\n",
      "linear = 0\n",
      "linear = 0\n",
      "linear = 0\n",
      "\n"
     ]
    },
    {
     "name": "stderr",
     "output_type": "stream",
     "text": [
      "进度:  41%|████      | 42/102 [1:51:57<3:26:38, 206.64s/文件夹]"
     ]
    },
    {
     "name": "stdout",
     "output_type": "stream",
     "text": [
      "'sphere' program in '/home/hdw/data/monk/plot/warmcorona/test/test_smooth_10_6/data/te_1.900_tau_14.100/sphere' has finished.\n",
      "'calspec' program in '/home/hdw/data/monk/plot/warmcorona/test/test_smooth_10_6/data/te_1.900_tau_14.100/calspec' has finished.\n",
      "calspec output:\n",
      "linear = 0\n",
      "linear = 0\n",
      "linear = 0\n",
      "\n"
     ]
    },
    {
     "name": "stderr",
     "output_type": "stream",
     "text": [
      "进度:  42%|████▏     | 43/102 [1:55:33<3:26:01, 209.52s/文件夹]"
     ]
    },
    {
     "name": "stdout",
     "output_type": "stream",
     "text": [
      "'sphere' program in '/home/hdw/data/monk/plot/warmcorona/test/test_smooth_10_6/data/te_1.900_tau_14.200/sphere' has finished.\n",
      "'calspec' program in '/home/hdw/data/monk/plot/warmcorona/test/test_smooth_10_6/data/te_1.900_tau_14.200/calspec' has finished.\n",
      "calspec output:\n",
      "linear = 0\n",
      "linear = 0\n",
      "linear = 0\n",
      "\n",
      "'sphere' program in '/home/hdw/data/monk/plot/warmcorona/test/test_smooth_10_6/data/te_1.900_tau_14.300/sphere' has finished.\n"
     ]
    },
    {
     "name": "stderr",
     "output_type": "stream",
     "text": [
      "进度:  43%|████▎     | 44/102 [1:59:13<3:25:39, 212.75s/文件夹]"
     ]
    },
    {
     "name": "stdout",
     "output_type": "stream",
     "text": [
      "'calspec' program in '/home/hdw/data/monk/plot/warmcorona/test/test_smooth_10_6/data/te_1.900_tau_14.300/calspec' has finished.\n",
      "calspec output:\n",
      "linear = 0\n",
      "linear = 0\n",
      "linear = 0\n",
      "\n"
     ]
    },
    {
     "name": "stderr",
     "output_type": "stream",
     "text": [
      "进度:  44%|████▍     | 45/102 [2:02:56<3:24:58, 215.75s/文件夹]"
     ]
    },
    {
     "name": "stdout",
     "output_type": "stream",
     "text": [
      "'sphere' program in '/home/hdw/data/monk/plot/warmcorona/test/test_smooth_10_6/data/te_1.900_tau_14.400/sphere' has finished.\n",
      "'calspec' program in '/home/hdw/data/monk/plot/warmcorona/test/test_smooth_10_6/data/te_1.900_tau_14.400/calspec' has finished.\n",
      "calspec output:\n",
      "linear = 0\n",
      "linear = 0\n",
      "linear = 0\n",
      "\n",
      "'sphere' program in '/home/hdw/data/monk/plot/warmcorona/test/test_smooth_10_6/data/te_1.900_tau_14.500/sphere' has finished.\n"
     ]
    },
    {
     "name": "stderr",
     "output_type": "stream",
     "text": [
      "进度:  45%|████▌     | 46/102 [2:06:42<3:24:16, 218.86s/文件夹]"
     ]
    },
    {
     "name": "stdout",
     "output_type": "stream",
     "text": [
      "'calspec' program in '/home/hdw/data/monk/plot/warmcorona/test/test_smooth_10_6/data/te_1.900_tau_14.500/calspec' has finished.\n",
      "calspec output:\n",
      "linear = 0\n",
      "linear = 0\n",
      "linear = 0\n",
      "\n"
     ]
    },
    {
     "name": "stderr",
     "output_type": "stream",
     "text": [
      "进度:  46%|████▌     | 47/102 [2:10:31<3:23:27, 221.96s/文件夹]"
     ]
    },
    {
     "name": "stdout",
     "output_type": "stream",
     "text": [
      "'sphere' program in '/home/hdw/data/monk/plot/warmcorona/test/test_smooth_10_6/data/te_1.900_tau_14.600/sphere' has finished.\n",
      "'calspec' program in '/home/hdw/data/monk/plot/warmcorona/test/test_smooth_10_6/data/te_1.900_tau_14.600/calspec' has finished.\n",
      "calspec output:\n",
      "linear = 0\n",
      "linear = 0\n",
      "linear = 0\n",
      "\n"
     ]
    },
    {
     "name": "stderr",
     "output_type": "stream",
     "text": [
      "进度:  47%|████▋     | 48/102 [2:14:25<3:23:00, 225.56s/文件夹]"
     ]
    },
    {
     "name": "stdout",
     "output_type": "stream",
     "text": [
      "'sphere' program in '/home/hdw/data/monk/plot/warmcorona/test/test_smooth_10_6/data/te_1.900_tau_14.700/sphere' has finished.\n",
      "'calspec' program in '/home/hdw/data/monk/plot/warmcorona/test/test_smooth_10_6/data/te_1.900_tau_14.700/calspec' has finished.\n",
      "calspec output:\n",
      "linear = 0\n",
      "linear = 0\n",
      "linear = 0\n",
      "\n",
      "'sphere' program in '/home/hdw/data/monk/plot/warmcorona/test/test_smooth_10_6/data/te_1.900_tau_14.800/sphere' has finished.\n"
     ]
    },
    {
     "name": "stderr",
     "output_type": "stream",
     "text": [
      "进度:  48%|████▊     | 49/102 [2:18:21<3:21:59, 228.66s/文件夹]"
     ]
    },
    {
     "name": "stdout",
     "output_type": "stream",
     "text": [
      "'calspec' program in '/home/hdw/data/monk/plot/warmcorona/test/test_smooth_10_6/data/te_1.900_tau_14.800/calspec' has finished.\n",
      "calspec output:\n",
      "linear = 0\n",
      "linear = 0\n",
      "linear = 0\n",
      "\n"
     ]
    },
    {
     "name": "stderr",
     "output_type": "stream",
     "text": [
      "进度:  49%|████▉     | 50/102 [2:22:21<3:20:58, 231.90s/文件夹]"
     ]
    },
    {
     "name": "stdout",
     "output_type": "stream",
     "text": [
      "'sphere' program in '/home/hdw/data/monk/plot/warmcorona/test/test_smooth_10_6/data/te_1.900_tau_14.900/sphere' has finished.\n",
      "'calspec' program in '/home/hdw/data/monk/plot/warmcorona/test/test_smooth_10_6/data/te_1.900_tau_14.900/calspec' has finished.\n",
      "calspec output:\n",
      "linear = 0\n",
      "linear = 0\n",
      "linear = 0\n",
      "\n"
     ]
    },
    {
     "name": "stderr",
     "output_type": "stream",
     "text": [
      "进度:  50%|█████     | 51/102 [2:26:23<3:19:48, 235.08s/文件夹]"
     ]
    },
    {
     "name": "stdout",
     "output_type": "stream",
     "text": [
      "'sphere' program in '/home/hdw/data/monk/plot/warmcorona/test/test_smooth_10_6/data/te_1.900_tau_15.000/sphere' has finished.\n",
      "'calspec' program in '/home/hdw/data/monk/plot/warmcorona/test/test_smooth_10_6/data/te_1.900_tau_15.000/calspec' has finished.\n",
      "calspec output:\n",
      "linear = 0\n",
      "linear = 0\n",
      "linear = 0\n",
      "\n",
      "'sphere' program in '/home/hdw/data/monk/plot/warmcorona/test/test_smooth_10_6/data/te_2.000_tau_10.000/sphere' has finished.\n",
      "'calspec' program in '/home/hdw/data/monk/plot/warmcorona/test/test_smooth_10_6/data/te_2.000_tau_10.000/calspec' has finished.\n",
      "calspec output:\n",
      "linear = 0\n",
      "linear = 0\n",
      "linear = 0\n",
      "\n"
     ]
    },
    {
     "name": "stderr",
     "output_type": "stream",
     "text": [
      "进度:  51%|█████     | 52/102 [2:28:17<2:45:33, 198.67s/文件夹]"
     ]
    },
    {
     "name": "stdout",
     "output_type": "stream",
     "text": [
      "'sphere' program in '/home/hdw/data/monk/plot/warmcorona/test/test_smooth_10_6/data/te_2.000_tau_10.100/sphere' has finished.\n"
     ]
    },
    {
     "name": "stderr",
     "output_type": "stream",
     "text": [
      "进度:  52%|█████▏    | 53/102 [2:30:12<2:21:51, 173.70s/文件夹]"
     ]
    },
    {
     "name": "stdout",
     "output_type": "stream",
     "text": [
      "'calspec' program in '/home/hdw/data/monk/plot/warmcorona/test/test_smooth_10_6/data/te_2.000_tau_10.100/calspec' has finished.\n",
      "calspec output:\n",
      "linear = 0\n",
      "linear = 0\n",
      "linear = 0\n",
      "\n",
      "'sphere' program in '/home/hdw/data/monk/plot/warmcorona/test/test_smooth_10_6/data/te_2.000_tau_10.200/sphere' has finished.\n"
     ]
    },
    {
     "name": "stderr",
     "output_type": "stream",
     "text": [
      "进度:  53%|█████▎    | 54/102 [2:32:09<2:05:24, 156.77s/文件夹]"
     ]
    },
    {
     "name": "stdout",
     "output_type": "stream",
     "text": [
      "'calspec' program in '/home/hdw/data/monk/plot/warmcorona/test/test_smooth_10_6/data/te_2.000_tau_10.200/calspec' has finished.\n",
      "calspec output:\n",
      "linear = 0\n",
      "linear = 0\n",
      "linear = 0\n",
      "\n"
     ]
    },
    {
     "name": "stderr",
     "output_type": "stream",
     "text": [
      "进度:  54%|█████▍    | 55/102 [2:34:09<1:53:56, 145.46s/文件夹]"
     ]
    },
    {
     "name": "stdout",
     "output_type": "stream",
     "text": [
      "'sphere' program in '/home/hdw/data/monk/plot/warmcorona/test/test_smooth_10_6/data/te_2.000_tau_10.300/sphere' has finished.\n",
      "'calspec' program in '/home/hdw/data/monk/plot/warmcorona/test/test_smooth_10_6/data/te_2.000_tau_10.300/calspec' has finished.\n",
      "calspec output:\n",
      "linear = 0\n",
      "linear = 0\n",
      "linear = 0\n",
      "\n"
     ]
    },
    {
     "name": "stderr",
     "output_type": "stream",
     "text": [
      "进度:  55%|█████▍    | 56/102 [2:36:09<1:45:50, 138.05s/文件夹]"
     ]
    },
    {
     "name": "stdout",
     "output_type": "stream",
     "text": [
      "'sphere' program in '/home/hdw/data/monk/plot/warmcorona/test/test_smooth_10_6/data/te_2.000_tau_10.400/sphere' has finished.\n",
      "'calspec' program in '/home/hdw/data/monk/plot/warmcorona/test/test_smooth_10_6/data/te_2.000_tau_10.400/calspec' has finished.\n",
      "calspec output:\n",
      "linear = 0\n",
      "linear = 0\n",
      "linear = 0\n",
      "\n",
      "'sphere' program in '/home/hdw/data/monk/plot/warmcorona/test/test_smooth_10_6/data/te_2.000_tau_10.500/sphere' has finished.\n",
      "'calspec' program in '/home/hdw/data/monk/plot/warmcorona/test/test_smooth_10_6/data/te_2.000_tau_10.500/calspec' has finished.\n",
      "calspec output:\n",
      "linear = 0\n",
      "linear = 0\n",
      "linear = 0\n",
      "\n"
     ]
    },
    {
     "name": "stderr",
     "output_type": "stream",
     "text": [
      "进度:  57%|█████▋    | 58/102 [2:40:18<1:36:12, 131.19s/文件夹]"
     ]
    },
    {
     "name": "stdout",
     "output_type": "stream",
     "text": [
      "'sphere' program in '/home/hdw/data/monk/plot/warmcorona/test/test_smooth_10_6/data/te_2.000_tau_10.600/sphere' has finished.\n",
      "'calspec' program in '/home/hdw/data/monk/plot/warmcorona/test/test_smooth_10_6/data/te_2.000_tau_10.600/calspec' has finished.\n",
      "calspec output:\n",
      "linear = 0\n",
      "linear = 0\n",
      "linear = 0\n",
      "\n",
      "'sphere' program in '/home/hdw/data/monk/plot/warmcorona/test/test_smooth_10_6/data/te_2.000_tau_10.700/sphere' has finished.\n"
     ]
    },
    {
     "name": "stderr",
     "output_type": "stream",
     "text": [
      "进度:  58%|█████▊    | 59/102 [2:42:25<1:33:08, 129.96s/文件夹]"
     ]
    },
    {
     "name": "stdout",
     "output_type": "stream",
     "text": [
      "'calspec' program in '/home/hdw/data/monk/plot/warmcorona/test/test_smooth_10_6/data/te_2.000_tau_10.700/calspec' has finished.\n",
      "calspec output:\n",
      "linear = 0\n",
      "linear = 0\n",
      "linear = 0\n",
      "\n"
     ]
    },
    {
     "name": "stderr",
     "output_type": "stream",
     "text": [
      "进度:  59%|█████▉    | 60/102 [2:44:35<1:30:55, 129.89s/文件夹]"
     ]
    },
    {
     "name": "stdout",
     "output_type": "stream",
     "text": [
      "'sphere' program in '/home/hdw/data/monk/plot/warmcorona/test/test_smooth_10_6/data/te_2.000_tau_10.800/sphere' has finished.\n",
      "'calspec' program in '/home/hdw/data/monk/plot/warmcorona/test/test_smooth_10_6/data/te_2.000_tau_10.800/calspec' has finished.\n",
      "calspec output:\n",
      "linear = 0\n",
      "linear = 0\n",
      "linear = 0\n",
      "\n",
      "'sphere' program in '/home/hdw/data/monk/plot/warmcorona/test/test_smooth_10_6/data/te_2.000_tau_10.900/sphere' has finished.\n",
      "'calspec' program in '/home/hdw/data/monk/plot/warmcorona/test/test_smooth_10_6/data/te_2.000_tau_10.900/calspec' has finished.\n",
      "calspec output:\n",
      "linear = 0\n",
      "linear = 0\n",
      "linear = 0\n",
      "\n"
     ]
    },
    {
     "name": "stderr",
     "output_type": "stream",
     "text": [
      "进度:  60%|█████▉    | 61/102 [2:46:47<1:29:08, 130.45s/文件夹]"
     ]
    },
    {
     "name": "stdout",
     "output_type": "stream",
     "text": [
      "'sphere' program in '/home/hdw/data/monk/plot/warmcorona/test/test_smooth_10_6/data/te_2.000_tau_11.000/sphere' has finished.\n",
      "'calspec' program in '/home/hdw/data/monk/plot/warmcorona/test/test_smooth_10_6/data/te_2.000_tau_11.000/calspec' has finished.\n",
      "calspec output:\n",
      "linear = 0\n",
      "linear = 0\n",
      "linear = 0\n",
      "\n"
     ]
    },
    {
     "name": "stderr",
     "output_type": "stream",
     "text": [
      "进度:  61%|██████    | 62/102 [2:49:00<1:27:38, 131.45s/文件夹]"
     ]
    },
    {
     "name": "stdout",
     "output_type": "stream",
     "text": [
      "'sphere' program in '/home/hdw/data/monk/plot/warmcorona/test/test_smooth_10_6/data/te_2.000_tau_11.100/sphere' has finished.\n"
     ]
    },
    {
     "name": "stderr",
     "output_type": "stream",
     "text": [
      "进度:  62%|██████▏   | 63/102 [2:51:16<1:26:18, 132.77s/文件夹]"
     ]
    },
    {
     "name": "stdout",
     "output_type": "stream",
     "text": [
      "'calspec' program in '/home/hdw/data/monk/plot/warmcorona/test/test_smooth_10_6/data/te_2.000_tau_11.100/calspec' has finished.\n",
      "calspec output:\n",
      "linear = 0\n",
      "linear = 0\n",
      "linear = 0\n",
      "\n",
      "'sphere' program in '/home/hdw/data/monk/plot/warmcorona/test/test_smooth_10_6/data/te_2.000_tau_11.200/sphere' has finished.\n"
     ]
    },
    {
     "name": "stderr",
     "output_type": "stream",
     "text": [
      "进度:  63%|██████▎   | 64/102 [2:53:35<1:25:08, 134.42s/文件夹]"
     ]
    },
    {
     "name": "stdout",
     "output_type": "stream",
     "text": [
      "'calspec' program in '/home/hdw/data/monk/plot/warmcorona/test/test_smooth_10_6/data/te_2.000_tau_11.200/calspec' has finished.\n",
      "calspec output:\n",
      "linear = 0\n",
      "linear = 0\n",
      "linear = 0\n",
      "\n"
     ]
    },
    {
     "name": "stderr",
     "output_type": "stream",
     "text": [
      "进度:  64%|██████▎   | 65/102 [2:55:55<1:24:03, 136.31s/文件夹]"
     ]
    },
    {
     "name": "stdout",
     "output_type": "stream",
     "text": [
      "'sphere' program in '/home/hdw/data/monk/plot/warmcorona/test/test_smooth_10_6/data/te_2.000_tau_11.300/sphere' has finished.\n",
      "'calspec' program in '/home/hdw/data/monk/plot/warmcorona/test/test_smooth_10_6/data/te_2.000_tau_11.300/calspec' has finished.\n",
      "calspec output:\n",
      "linear = 0\n",
      "linear = 0\n",
      "linear = 0\n",
      "\n",
      "'sphere' program in '/home/hdw/data/monk/plot/warmcorona/test/test_smooth_10_6/data/te_2.000_tau_11.400/sphere' has finished.\n"
     ]
    },
    {
     "name": "stderr",
     "output_type": "stream",
     "text": [
      "进度:  65%|██████▍   | 66/102 [2:58:18<1:23:00, 138.34s/文件夹]"
     ]
    },
    {
     "name": "stdout",
     "output_type": "stream",
     "text": [
      "'calspec' program in '/home/hdw/data/monk/plot/warmcorona/test/test_smooth_10_6/data/te_2.000_tau_11.400/calspec' has finished.\n",
      "calspec output:\n",
      "linear = 0\n",
      "linear = 0\n",
      "linear = 0\n",
      "\n"
     ]
    },
    {
     "name": "stderr",
     "output_type": "stream",
     "text": [
      "进度:  66%|██████▌   | 67/102 [3:00:44<1:21:57, 140.50s/文件夹]"
     ]
    },
    {
     "name": "stdout",
     "output_type": "stream",
     "text": [
      "'sphere' program in '/home/hdw/data/monk/plot/warmcorona/test/test_smooth_10_6/data/te_2.000_tau_11.500/sphere' has finished.\n",
      "'calspec' program in '/home/hdw/data/monk/plot/warmcorona/test/test_smooth_10_6/data/te_2.000_tau_11.500/calspec' has finished.\n",
      "calspec output:\n",
      "linear = 0\n",
      "linear = 0\n",
      "linear = 0\n",
      "\n",
      "'sphere' program in '/home/hdw/data/monk/plot/warmcorona/test/test_smooth_10_6/data/te_2.000_tau_11.600/sphere' has finished.\n"
     ]
    },
    {
     "name": "stderr",
     "output_type": "stream",
     "text": [
      "进度:  67%|██████▋   | 68/102 [3:03:12<1:20:53, 142.74s/文件夹]"
     ]
    },
    {
     "name": "stdout",
     "output_type": "stream",
     "text": [
      "'calspec' program in '/home/hdw/data/monk/plot/warmcorona/test/test_smooth_10_6/data/te_2.000_tau_11.600/calspec' has finished.\n",
      "calspec output:\n",
      "linear = 0\n",
      "linear = 0\n",
      "linear = 0\n",
      "\n",
      "'sphere' program in '/home/hdw/data/monk/plot/warmcorona/test/test_smooth_10_6/data/te_2.000_tau_11.700/sphere' has finished.\n"
     ]
    },
    {
     "name": "stderr",
     "output_type": "stream",
     "text": [
      "进度:  68%|██████▊   | 69/102 [3:05:42<1:19:41, 144.89s/文件夹]"
     ]
    },
    {
     "name": "stdout",
     "output_type": "stream",
     "text": [
      "'calspec' program in '/home/hdw/data/monk/plot/warmcorona/test/test_smooth_10_6/data/te_2.000_tau_11.700/calspec' has finished.\n",
      "calspec output:\n",
      "linear = 0\n",
      "linear = 0\n",
      "linear = 0\n",
      "\n"
     ]
    },
    {
     "name": "stderr",
     "output_type": "stream",
     "text": [
      "进度:  69%|██████▊   | 70/102 [3:08:14<1:18:30, 147.20s/文件夹]"
     ]
    },
    {
     "name": "stdout",
     "output_type": "stream",
     "text": [
      "'sphere' program in '/home/hdw/data/monk/plot/warmcorona/test/test_smooth_10_6/data/te_2.000_tau_11.800/sphere' has finished.\n",
      "'calspec' program in '/home/hdw/data/monk/plot/warmcorona/test/test_smooth_10_6/data/te_2.000_tau_11.800/calspec' has finished.\n",
      "calspec output:\n",
      "linear = 0\n",
      "linear = 0\n",
      "linear = 0\n",
      "\n",
      "'sphere' program in '/home/hdw/data/monk/plot/warmcorona/test/test_smooth_10_6/data/te_2.000_tau_11.900/sphere' has finished.\n",
      "'calspec' program in '/home/hdw/data/monk/plot/warmcorona/test/test_smooth_10_6/data/te_2.000_tau_11.900/calspec' has finished.\n",
      "calspec output:\n",
      "linear = 0\n",
      "linear = 0\n",
      "linear = 0\n",
      "\n"
     ]
    },
    {
     "name": "stderr",
     "output_type": "stream",
     "text": [
      "进度:  70%|██████▉   | 71/102 [3:10:49<1:17:14, 149.51s/文件夹]"
     ]
    },
    {
     "name": "stdout",
     "output_type": "stream",
     "text": [
      "'sphere' program in '/home/hdw/data/monk/plot/warmcorona/test/test_smooth_10_6/data/te_2.000_tau_12.000/sphere' has finished.\n"
     ]
    },
    {
     "name": "stderr",
     "output_type": "stream",
     "text": [
      "进度:  71%|███████   | 72/102 [3:13:26<1:15:53, 151.80s/文件夹]"
     ]
    },
    {
     "name": "stdout",
     "output_type": "stream",
     "text": [
      "'calspec' program in '/home/hdw/data/monk/plot/warmcorona/test/test_smooth_10_6/data/te_2.000_tau_12.000/calspec' has finished.\n",
      "calspec output:\n",
      "linear = 0\n",
      "linear = 0\n",
      "linear = 0\n",
      "\n",
      "'sphere' program in '/home/hdw/data/monk/plot/warmcorona/test/test_smooth_10_6/data/te_2.000_tau_12.100/sphere' has finished.\n"
     ]
    },
    {
     "name": "stderr",
     "output_type": "stream",
     "text": [
      "进度:  72%|███████▏  | 73/102 [3:16:06<1:14:32, 154.22s/文件夹]"
     ]
    },
    {
     "name": "stdout",
     "output_type": "stream",
     "text": [
      "'calspec' program in '/home/hdw/data/monk/plot/warmcorona/test/test_smooth_10_6/data/te_2.000_tau_12.100/calspec' has finished.\n",
      "calspec output:\n",
      "linear = 0\n",
      "linear = 0\n",
      "linear = 0\n",
      "\n",
      "'sphere' program in '/home/hdw/data/monk/plot/warmcorona/test/test_smooth_10_6/data/te_2.000_tau_12.200/sphere' has finished.\n",
      "'calspec' program in '/home/hdw/data/monk/plot/warmcorona/test/test_smooth_10_6/data/te_2.000_tau_12.200/calspec' has finished.\n",
      "calspec output:\n",
      "linear = 0\n",
      "linear = 0\n",
      "linear = 0\n",
      "\n"
     ]
    },
    {
     "name": "stderr",
     "output_type": "stream",
     "text": [
      "进度:  73%|███████▎  | 74/102 [3:18:49<1:13:11, 156.83s/文件夹]"
     ]
    },
    {
     "name": "stdout",
     "output_type": "stream",
     "text": [
      "'sphere' program in '/home/hdw/data/monk/plot/warmcorona/test/test_smooth_10_6/data/te_2.000_tau_12.300/sphere' has finished.\n",
      "'calspec' program in '/home/hdw/data/monk/plot/warmcorona/test/test_smooth_10_6/data/te_2.000_tau_12.300/calspec' has finished.\n",
      "calspec output:\n",
      "linear = 0\n",
      "linear = 0\n",
      "linear = 0\n",
      "\n"
     ]
    },
    {
     "name": "stderr",
     "output_type": "stream",
     "text": [
      "进度:  74%|███████▎  | 75/102 [3:21:35<1:11:43, 159.38s/文件夹]"
     ]
    },
    {
     "name": "stdout",
     "output_type": "stream",
     "text": [
      "'sphere' program in '/home/hdw/data/monk/plot/warmcorona/test/test_smooth_10_6/data/te_2.000_tau_12.400/sphere' has finished.\n",
      "'calspec' program in '/home/hdw/data/monk/plot/warmcorona/test/test_smooth_10_6/data/te_2.000_tau_12.400/calspec' has finished.\n",
      "calspec output:\n",
      "linear = 0\n",
      "linear = 0\n",
      "linear = 0\n",
      "\n"
     ]
    },
    {
     "name": "stderr",
     "output_type": "stream",
     "text": [
      "进度:  75%|███████▍  | 76/102 [3:24:22<1:10:07, 161.83s/文件夹]"
     ]
    },
    {
     "name": "stdout",
     "output_type": "stream",
     "text": [
      "'sphere' program in '/home/hdw/data/monk/plot/warmcorona/test/test_smooth_10_6/data/te_2.000_tau_12.500/sphere' has finished.\n",
      "'calspec' program in '/home/hdw/data/monk/plot/warmcorona/test/test_smooth_10_6/data/te_2.000_tau_12.500/calspec' has finished.\n",
      "calspec output:\n",
      "linear = 0\n",
      "linear = 0\n",
      "linear = 0\n",
      "\n"
     ]
    },
    {
     "name": "stderr",
     "output_type": "stream",
     "text": [
      "进度:  75%|███████▌  | 77/102 [3:27:12<1:08:26, 164.26s/文件夹]"
     ]
    },
    {
     "name": "stdout",
     "output_type": "stream",
     "text": [
      "'sphere' program in '/home/hdw/data/monk/plot/warmcorona/test/test_smooth_10_6/data/te_2.000_tau_12.600/sphere' has finished.\n",
      "'calspec' program in '/home/hdw/data/monk/plot/warmcorona/test/test_smooth_10_6/data/te_2.000_tau_12.600/calspec' has finished.\n",
      "calspec output:\n",
      "linear = 0\n",
      "linear = 0\n",
      "linear = 0\n",
      "\n"
     ]
    },
    {
     "name": "stderr",
     "output_type": "stream",
     "text": [
      "进度:  76%|███████▋  | 78/102 [3:30:04<1:06:40, 166.68s/文件夹]"
     ]
    },
    {
     "name": "stdout",
     "output_type": "stream",
     "text": [
      "'sphere' program in '/home/hdw/data/monk/plot/warmcorona/test/test_smooth_10_6/data/te_2.000_tau_12.700/sphere' has finished.\n"
     ]
    },
    {
     "name": "stderr",
     "output_type": "stream",
     "text": [
      "进度:  77%|███████▋  | 79/102 [3:32:59<1:04:51, 169.22s/文件夹]"
     ]
    },
    {
     "name": "stdout",
     "output_type": "stream",
     "text": [
      "'calspec' program in '/home/hdw/data/monk/plot/warmcorona/test/test_smooth_10_6/data/te_2.000_tau_12.700/calspec' has finished.\n",
      "calspec output:\n",
      "linear = 0\n",
      "linear = 0\n",
      "linear = 0\n",
      "\n",
      "'sphere' program in '/home/hdw/data/monk/plot/warmcorona/test/test_smooth_10_6/data/te_2.000_tau_12.800/sphere' has finished.\n"
     ]
    },
    {
     "name": "stderr",
     "output_type": "stream",
     "text": [
      "进度:  78%|███████▊  | 80/102 [3:35:58<1:03:01, 171.89s/文件夹]"
     ]
    },
    {
     "name": "stdout",
     "output_type": "stream",
     "text": [
      "'calspec' program in '/home/hdw/data/monk/plot/warmcorona/test/test_smooth_10_6/data/te_2.000_tau_12.800/calspec' has finished.\n",
      "calspec output:\n",
      "linear = 0\n",
      "linear = 0\n",
      "linear = 0\n",
      "\n",
      "'sphere' program in '/home/hdw/data/monk/plot/warmcorona/test/test_smooth_10_6/data/te_2.000_tau_12.900/sphere' has finished.\n"
     ]
    },
    {
     "name": "stderr",
     "output_type": "stream",
     "text": [
      "进度:  79%|███████▉  | 81/102 [3:38:58<1:01:02, 174.39s/文件夹]"
     ]
    },
    {
     "name": "stdout",
     "output_type": "stream",
     "text": [
      "'calspec' program in '/home/hdw/data/monk/plot/warmcorona/test/test_smooth_10_6/data/te_2.000_tau_12.900/calspec' has finished.\n",
      "calspec output:\n",
      "linear = 0\n",
      "linear = 0\n",
      "linear = 0\n",
      "\n"
     ]
    },
    {
     "name": "stderr",
     "output_type": "stream",
     "text": [
      "进度:  80%|████████  | 82/102 [3:42:00<58:57, 176.87s/文件夹]  "
     ]
    },
    {
     "name": "stdout",
     "output_type": "stream",
     "text": [
      "'sphere' program in '/home/hdw/data/monk/plot/warmcorona/test/test_smooth_10_6/data/te_2.000_tau_13.000/sphere' has finished.\n",
      "'calspec' program in '/home/hdw/data/monk/plot/warmcorona/test/test_smooth_10_6/data/te_2.000_tau_13.000/calspec' has finished.\n",
      "calspec output:\n",
      "linear = 0\n",
      "linear = 0\n",
      "linear = 0\n",
      "\n"
     ]
    },
    {
     "name": "stderr",
     "output_type": "stream",
     "text": [
      "进度:  81%|████████▏ | 83/102 [3:45:06<56:51, 179.54s/文件夹]"
     ]
    },
    {
     "name": "stdout",
     "output_type": "stream",
     "text": [
      "'sphere' program in '/home/hdw/data/monk/plot/warmcorona/test/test_smooth_10_6/data/te_2.000_tau_13.100/sphere' has finished.\n",
      "'calspec' program in '/home/hdw/data/monk/plot/warmcorona/test/test_smooth_10_6/data/te_2.000_tau_13.100/calspec' has finished.\n",
      "calspec output:\n",
      "linear = 0\n",
      "linear = 0\n",
      "linear = 0\n",
      "\n",
      "'sphere' program in '/home/hdw/data/monk/plot/warmcorona/test/test_smooth_10_6/data/te_2.000_tau_13.200/sphere' has finished.\n"
     ]
    },
    {
     "name": "stderr",
     "output_type": "stream",
     "text": [
      "进度:  82%|████████▏ | 84/102 [3:48:15<54:42, 182.39s/文件夹]"
     ]
    },
    {
     "name": "stdout",
     "output_type": "stream",
     "text": [
      "'calspec' program in '/home/hdw/data/monk/plot/warmcorona/test/test_smooth_10_6/data/te_2.000_tau_13.200/calspec' has finished.\n",
      "calspec output:\n",
      "linear = 0\n",
      "linear = 0\n",
      "linear = 0\n",
      "\n",
      "'sphere' program in '/home/hdw/data/monk/plot/warmcorona/test/test_smooth_10_6/data/te_2.000_tau_13.300/sphere' has finished.\n"
     ]
    },
    {
     "name": "stderr",
     "output_type": "stream",
     "text": [
      "进度:  83%|████████▎ | 85/102 [3:51:27<52:29, 185.29s/文件夹]"
     ]
    },
    {
     "name": "stdout",
     "output_type": "stream",
     "text": [
      "'calspec' program in '/home/hdw/data/monk/plot/warmcorona/test/test_smooth_10_6/data/te_2.000_tau_13.300/calspec' has finished.\n",
      "calspec output:\n",
      "linear = 0\n",
      "linear = 0\n",
      "linear = 0\n",
      "\n"
     ]
    },
    {
     "name": "stderr",
     "output_type": "stream",
     "text": [
      "进度:  84%|████████▍ | 86/102 [3:54:41<50:07, 187.96s/文件夹]"
     ]
    },
    {
     "name": "stdout",
     "output_type": "stream",
     "text": [
      "'sphere' program in '/home/hdw/data/monk/plot/warmcorona/test/test_smooth_10_6/data/te_2.000_tau_13.400/sphere' has finished.\n",
      "'calspec' program in '/home/hdw/data/monk/plot/warmcorona/test/test_smooth_10_6/data/te_2.000_tau_13.400/calspec' has finished.\n",
      "calspec output:\n",
      "linear = 0\n",
      "linear = 0\n",
      "linear = 0\n",
      "\n",
      "'sphere' program in '/home/hdw/data/monk/plot/warmcorona/test/test_smooth_10_6/data/te_2.000_tau_13.500/sphere' has finished.\n"
     ]
    },
    {
     "name": "stderr",
     "output_type": "stream",
     "text": [
      "进度:  85%|████████▌ | 87/102 [3:57:59<47:41, 190.79s/文件夹]"
     ]
    },
    {
     "name": "stdout",
     "output_type": "stream",
     "text": [
      "'calspec' program in '/home/hdw/data/monk/plot/warmcorona/test/test_smooth_10_6/data/te_2.000_tau_13.500/calspec' has finished.\n",
      "calspec output:\n",
      "linear = 0\n",
      "linear = 0\n",
      "linear = 0\n",
      "\n",
      "'sphere' program in '/home/hdw/data/monk/plot/warmcorona/test/test_smooth_10_6/data/te_2.000_tau_13.600/sphere' has finished.\n"
     ]
    },
    {
     "name": "stderr",
     "output_type": "stream",
     "text": [
      "进度:  86%|████████▋ | 88/102 [4:01:19<45:11, 193.67s/文件夹]"
     ]
    },
    {
     "name": "stdout",
     "output_type": "stream",
     "text": [
      "'calspec' program in '/home/hdw/data/monk/plot/warmcorona/test/test_smooth_10_6/data/te_2.000_tau_13.600/calspec' has finished.\n",
      "calspec output:\n",
      "linear = 0\n",
      "linear = 0\n",
      "linear = 0\n",
      "\n",
      "'sphere' program in '/home/hdw/data/monk/plot/warmcorona/test/test_smooth_10_6/data/te_2.000_tau_13.700/sphere' has finished.\n",
      "'calspec' program in '/home/hdw/data/monk/plot/warmcorona/test/test_smooth_10_6/data/te_2.000_tau_13.700/calspec' has finished.\n",
      "calspec output:\n",
      "linear = 0\n",
      "linear = 0\n",
      "linear = 0\n",
      "\n"
     ]
    },
    {
     "name": "stderr",
     "output_type": "stream",
     "text": [
      "进度:  88%|████████▊ | 90/102 [4:08:10<39:56, 199.69s/文件夹]"
     ]
    },
    {
     "name": "stdout",
     "output_type": "stream",
     "text": [
      "'sphere' program in '/home/hdw/data/monk/plot/warmcorona/test/test_smooth_10_6/data/te_2.000_tau_13.800/sphere' has finished.\n",
      "'calspec' program in '/home/hdw/data/monk/plot/warmcorona/test/test_smooth_10_6/data/te_2.000_tau_13.800/calspec' has finished.\n",
      "calspec output:\n",
      "linear = 0\n",
      "linear = 0\n",
      "linear = 0\n",
      "\n",
      "'sphere' program in '/home/hdw/data/monk/plot/warmcorona/test/test_smooth_10_6/data/te_2.000_tau_13.900/sphere' has finished.\n",
      "'calspec' program in '/home/hdw/data/monk/plot/warmcorona/test/test_smooth_10_6/data/te_2.000_tau_13.900/calspec' has finished.\n",
      "calspec output:\n",
      "linear = 0\n",
      "linear = 0\n",
      "linear = 0\n",
      "\n"
     ]
    },
    {
     "name": "stderr",
     "output_type": "stream",
     "text": [
      "进度:  90%|█████████ | 92/102 [4:15:11<34:14, 205.44s/文件夹]"
     ]
    },
    {
     "name": "stdout",
     "output_type": "stream",
     "text": [
      "'sphere' program in '/home/hdw/data/monk/plot/warmcorona/test/test_smooth_10_6/data/te_2.000_tau_14.000/sphere' has finished.\n",
      "'calspec' program in '/home/hdw/data/monk/plot/warmcorona/test/test_smooth_10_6/data/te_2.000_tau_14.000/calspec' has finished.\n",
      "calspec output:\n",
      "linear = 0\n",
      "linear = 0\n",
      "linear = 0\n",
      "\n",
      "'sphere' program in '/home/hdw/data/monk/plot/warmcorona/test/test_smooth_10_6/data/te_2.000_tau_14.100/sphere' has finished.\n"
     ]
    },
    {
     "name": "stderr",
     "output_type": "stream",
     "text": [
      "进度:  91%|█████████ | 93/102 [4:18:47<31:16, 208.47s/文件夹]"
     ]
    },
    {
     "name": "stdout",
     "output_type": "stream",
     "text": [
      "'calspec' program in '/home/hdw/data/monk/plot/warmcorona/test/test_smooth_10_6/data/te_2.000_tau_14.100/calspec' has finished.\n",
      "calspec output:\n",
      "linear = 0\n",
      "linear = 0\n",
      "linear = 0\n",
      "\n",
      "'sphere' program in '/home/hdw/data/monk/plot/warmcorona/test/test_smooth_10_6/data/te_2.000_tau_14.200/sphere' has finished.\n",
      "'calspec' program in '/home/hdw/data/monk/plot/warmcorona/test/test_smooth_10_6/data/te_2.000_tau_14.200/calspec' has finished.\n",
      "calspec output:\n",
      "linear = 0\n",
      "linear = 0\n",
      "linear = 0\n",
      "\n"
     ]
    },
    {
     "name": "stderr",
     "output_type": "stream",
     "text": [
      "进度:  92%|█████████▏| 94/102 [4:22:25<28:12, 211.52s/文件夹]"
     ]
    },
    {
     "name": "stdout",
     "output_type": "stream",
     "text": [
      "'sphere' program in '/home/hdw/data/monk/plot/warmcorona/test/test_smooth_10_6/data/te_2.000_tau_14.300/sphere' has finished.\n"
     ]
    },
    {
     "name": "stderr",
     "output_type": "stream",
     "text": [
      "进度:  93%|█████████▎| 95/102 [4:26:07<25:02, 214.65s/文件夹]"
     ]
    },
    {
     "name": "stdout",
     "output_type": "stream",
     "text": [
      "'calspec' program in '/home/hdw/data/monk/plot/warmcorona/test/test_smooth_10_6/data/te_2.000_tau_14.300/calspec' has finished.\n",
      "calspec output:\n",
      "linear = 0\n",
      "linear = 0\n",
      "linear = 0\n",
      "\n",
      "'sphere' program in '/home/hdw/data/monk/plot/warmcorona/test/test_smooth_10_6/data/te_2.000_tau_14.400/sphere' has finished.\n"
     ]
    },
    {
     "name": "stderr",
     "output_type": "stream",
     "text": [
      "进度:  94%|█████████▍| 96/102 [4:29:53<21:47, 217.87s/文件夹]"
     ]
    },
    {
     "name": "stdout",
     "output_type": "stream",
     "text": [
      "'calspec' program in '/home/hdw/data/monk/plot/warmcorona/test/test_smooth_10_6/data/te_2.000_tau_14.400/calspec' has finished.\n",
      "calspec output:\n",
      "linear = 0\n",
      "linear = 0\n",
      "linear = 0\n",
      "\n",
      "'sphere' program in '/home/hdw/data/monk/plot/warmcorona/test/test_smooth_10_6/data/te_2.000_tau_14.500/sphere' has finished.\n"
     ]
    },
    {
     "name": "stderr",
     "output_type": "stream",
     "text": [
      "进度:  95%|█████████▌| 97/102 [4:33:41<18:24, 220.97s/文件夹]"
     ]
    },
    {
     "name": "stdout",
     "output_type": "stream",
     "text": [
      "'calspec' program in '/home/hdw/data/monk/plot/warmcorona/test/test_smooth_10_6/data/te_2.000_tau_14.500/calspec' has finished.\n",
      "calspec output:\n",
      "linear = 0\n",
      "linear = 0\n",
      "linear = 0\n",
      "\n",
      "'sphere' program in '/home/hdw/data/monk/plot/warmcorona/test/test_smooth_10_6/data/te_2.000_tau_14.600/sphere' has finished.\n"
     ]
    },
    {
     "name": "stderr",
     "output_type": "stream",
     "text": [
      "进度:  96%|█████████▌| 98/102 [4:37:32<14:55, 223.97s/文件夹]"
     ]
    },
    {
     "name": "stdout",
     "output_type": "stream",
     "text": [
      "'calspec' program in '/home/hdw/data/monk/plot/warmcorona/test/test_smooth_10_6/data/te_2.000_tau_14.600/calspec' has finished.\n",
      "calspec output:\n",
      "linear = 0\n",
      "linear = 0\n",
      "linear = 0\n",
      "\n",
      "'sphere' program in '/home/hdw/data/monk/plot/warmcorona/test/test_smooth_10_6/data/te_2.000_tau_14.700/sphere' has finished.\n"
     ]
    },
    {
     "name": "stderr",
     "output_type": "stream",
     "text": [
      "进度:  97%|█████████▋| 99/102 [4:41:26<11:21, 227.12s/文件夹]"
     ]
    },
    {
     "name": "stdout",
     "output_type": "stream",
     "text": [
      "'calspec' program in '/home/hdw/data/monk/plot/warmcorona/test/test_smooth_10_6/data/te_2.000_tau_14.700/calspec' has finished.\n",
      "calspec output:\n",
      "linear = 0\n",
      "linear = 0\n",
      "linear = 0\n",
      "\n",
      "'sphere' program in '/home/hdw/data/monk/plot/warmcorona/test/test_smooth_10_6/data/te_2.000_tau_14.800/sphere' has finished.\n",
      "'calspec' program in '/home/hdw/data/monk/plot/warmcorona/test/test_smooth_10_6/data/te_2.000_tau_14.800/calspec' has finished.\n",
      "calspec output:\n",
      "linear = 0\n",
      "linear = 0\n",
      "linear = 0\n",
      "\n"
     ]
    },
    {
     "name": "stderr",
     "output_type": "stream",
     "text": [
      "进度:  98%|█████████▊| 100/102 [4:45:24<07:40, 230.24s/文件夹]"
     ]
    },
    {
     "name": "stdout",
     "output_type": "stream",
     "text": [
      "'sphere' program in '/home/hdw/data/monk/plot/warmcorona/test/test_smooth_10_6/data/te_2.000_tau_14.900/sphere' has finished.\n",
      "'calspec' program in '/home/hdw/data/monk/plot/warmcorona/test/test_smooth_10_6/data/te_2.000_tau_14.900/calspec' has finished.\n",
      "calspec output:\n",
      "linear = 0\n",
      "linear = 0\n",
      "linear = 0\n",
      "\n"
     ]
    },
    {
     "name": "stderr",
     "output_type": "stream",
     "text": [
      "进度: 100%|██████████| 102/102 [4:53:30<00:00, 172.65s/文件夹]"
     ]
    },
    {
     "name": "stdout",
     "output_type": "stream",
     "text": [
      "'sphere' program in '/home/hdw/data/monk/plot/warmcorona/test/test_smooth_10_6/data/te_2.000_tau_15.000/sphere' has finished.\n",
      "'calspec' program in '/home/hdw/data/monk/plot/warmcorona/test/test_smooth_10_6/data/te_2.000_tau_15.000/calspec' has finished.\n",
      "calspec output:\n",
      "linear = 0\n",
      "linear = 0\n",
      "linear = 0\n",
      "\n",
      "运行时间：17610.245053052902 s\n"
     ]
    },
    {
     "name": "stderr",
     "output_type": "stream",
     "text": [
      "\n"
     ]
    }
   ],
   "source": [
    "def main():\n",
    "    \"\"\"\n",
    "    主函数\n",
    "    \"\"\"\n",
    "    test_mode = int(input(\"请输入是否是测试阶段（1是，0否）：\"))\n",
    "    if test_mode == 1:\n",
    "        te_lower_bound = 0.1\n",
    "        te_upper_bound = 0.2\n",
    "        tau_lower_bound = 0.01\n",
    "        tau_upper_bound = 0.02\n",
    "        te_parts = 2\n",
    "        tau_parts = 2\n",
    "        calspec_parameter = f\"{-200} {1e-2} {1e2}\"\n",
    "\n",
    "        # 添加选点功能的示例\n",
    "        selection_method = input(\"请选择选点方式（row: 等差选行, column: 等差选列, random: 随机选点, all: 全选点）：\")\n",
    "\n",
    "        if selection_method in ['row', 'column']:  # 等差选点或随机选点\n",
    "            selection_ratio = float(input(\"请选择数据点占比（0-1之间）：\"))\n",
    "            random_seed = None\n",
    "            if selection_method == 'random':\n",
    "                random_seed = int(input(\"请输入随机种子：\"))\n",
    "        elif selection_method == 'all':  # 全选点\n",
    "            selection_ratio = 1\n",
    "            random_seed = None\n",
    "\n",
    "    else:\n",
    "        te_lower_bound = float(input(\"请输入te的区间下限：\"))\n",
    "        te_upper_bound = float(input(\"请输入te的区间上限：\"))\n",
    "        tau_lower_bound = float(input(\"请输入tau的区间下限：\"))\n",
    "        tau_upper_bound = float(input(\"请输入tau的区间上限：\"))\n",
    "        te_parts = int(input(\"请输入te的份数：\"))\n",
    "        tau_parts = int(input(\"请输入tau的份数：\"))\n",
    "        calspec_parameters = input(\"请输入calspec的参数（三个数字，用空格分隔）：\")\n",
    "        calspec_parameters = calspec_parameters.split()\n",
    "        # 将输入的三个数字格式化为字符串\n",
    "        calspec_parameter = f\"{float(calspec_parameters[0])} {float(calspec_parameters[1])} {float(calspec_parameters[2])}\"\n",
    "\n",
    "        selection_method = input(\"请选择选点方式（row: 等差选行, column: 等差选列, random: 随机选点, all: 全选点）：\")\n",
    "\n",
    "        if selection_method in ['row', 'column']:  # 等差选点或随机选点\n",
    "            selection_ratio = float(input(\"请选择数据点占比（0-1之间）：\"))\n",
    "            random_seed = None\n",
    "            if selection_method == 'random':\n",
    "                random_seed = int(input(\"请输入随机种子：\"))\n",
    "        elif selection_method == 'all':  # 全选点\n",
    "            selection_ratio = 1\n",
    "            random_seed = None\n",
    "\n",
    "    # 创建文件夹并运行程序\n",
    "    create_folders(te_lower_bound, te_upper_bound, tau_lower_bound, tau_upper_bound, te_parts, tau_parts,\n",
    "                   calspec_parameter, selection_method, selection_ratio, random_seed)\n",
    "\n",
    "if __name__ == '__main__':\n",
    "    main()\n"
   ]
  },
  {
   "cell_type": "code",
   "execution_count": null,
   "id": "1429bfe5-73fc-42fc-afd2-c29a84d4d841",
   "metadata": {},
   "outputs": [],
   "source": []
  }
 ],
 "metadata": {
  "kernelspec": {
   "display_name": "Python 3 (ipykernel)",
   "language": "python",
   "name": "python3"
  },
  "language_info": {
   "codemirror_mode": {
    "name": "ipython",
    "version": 3
   },
   "file_extension": ".py",
   "mimetype": "text/x-python",
   "name": "python",
   "nbconvert_exporter": "python",
   "pygments_lexer": "ipython3",
   "version": "3.12.3"
  }
 },
 "nbformat": 4,
 "nbformat_minor": 5
}
