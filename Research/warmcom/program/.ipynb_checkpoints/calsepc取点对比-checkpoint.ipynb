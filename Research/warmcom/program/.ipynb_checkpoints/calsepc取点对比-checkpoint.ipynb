{
 "cells": [
  {
   "cell_type": "markdown",
   "id": "cead2c03-1034-4e82-8624-91fbb2619225",
   "metadata": {},
   "source": [
    "# calspec取点修改代码"
   ]
  },
  {
   "cell_type": "code",
   "execution_count": 4,
   "id": "d006c702-9fed-41a1-9ace-b1f5722d8cac",
   "metadata": {},
   "outputs": [
    {
     "ename": "FileNotFoundError",
     "evalue": "[Errno 2] No such file or directory: '/home/hdw/data/monk/plot/warmcorona/test/test_smooth_10_6/data_calspec/Xspec_flux.txt'",
     "output_type": "error",
     "traceback": [
      "\u001b[1;31m---------------------------------------------------------------------------\u001b[0m",
      "\u001b[1;31mFileNotFoundError\u001b[0m                         Traceback (most recent call last)",
      "Cell \u001b[1;32mIn[4], line 31\u001b[0m\n\u001b[0;32m     28\u001b[0m         lines\u001b[38;5;241m.\u001b[39mappend(\u001b[38;5;124m\"\u001b[39m\u001b[38;5;124m\"\u001b[39m)  \u001b[38;5;66;03m# 空行分隔每组\u001b[39;00m\n\u001b[0;32m     30\u001b[0m \u001b[38;5;66;03m# ✅ 写入文件\u001b[39;00m\n\u001b[1;32m---> 31\u001b[0m \u001b[38;5;28;01mwith\u001b[39;00m \u001b[38;5;28mopen\u001b[39m(output_file, \u001b[38;5;124m\"\u001b[39m\u001b[38;5;124mw\u001b[39m\u001b[38;5;124m\"\u001b[39m) \u001b[38;5;28;01mas\u001b[39;00m f:\n\u001b[0;32m     32\u001b[0m     f\u001b[38;5;241m.\u001b[39mwrite(\u001b[38;5;124m\"\u001b[39m\u001b[38;5;130;01m\\n\u001b[39;00m\u001b[38;5;124m\"\u001b[39m\u001b[38;5;241m.\u001b[39mjoin(lines))\n\u001b[0;32m     34\u001b[0m \u001b[38;5;28mprint\u001b[39m(\u001b[38;5;124mf\u001b[39m\u001b[38;5;124m\"\u001b[39m\u001b[38;5;124m文件已保存到: \u001b[39m\u001b[38;5;132;01m{\u001b[39;00moutput_file\u001b[38;5;132;01m}\u001b[39;00m\u001b[38;5;124m\"\u001b[39m)\n",
      "File \u001b[1;32mC:\\soft\\anaconda\\Lib\\site-packages\\IPython\\core\\interactiveshell.py:324\u001b[0m, in \u001b[0;36m_modified_open\u001b[1;34m(file, *args, **kwargs)\u001b[0m\n\u001b[0;32m    317\u001b[0m \u001b[38;5;28;01mif\u001b[39;00m file \u001b[38;5;129;01min\u001b[39;00m {\u001b[38;5;241m0\u001b[39m, \u001b[38;5;241m1\u001b[39m, \u001b[38;5;241m2\u001b[39m}:\n\u001b[0;32m    318\u001b[0m     \u001b[38;5;28;01mraise\u001b[39;00m \u001b[38;5;167;01mValueError\u001b[39;00m(\n\u001b[0;32m    319\u001b[0m         \u001b[38;5;124mf\u001b[39m\u001b[38;5;124m\"\u001b[39m\u001b[38;5;124mIPython won\u001b[39m\u001b[38;5;124m'\u001b[39m\u001b[38;5;124mt let you open fd=\u001b[39m\u001b[38;5;132;01m{\u001b[39;00mfile\u001b[38;5;132;01m}\u001b[39;00m\u001b[38;5;124m by default \u001b[39m\u001b[38;5;124m\"\u001b[39m\n\u001b[0;32m    320\u001b[0m         \u001b[38;5;124m\"\u001b[39m\u001b[38;5;124mas it is likely to crash IPython. If you know what you are doing, \u001b[39m\u001b[38;5;124m\"\u001b[39m\n\u001b[0;32m    321\u001b[0m         \u001b[38;5;124m\"\u001b[39m\u001b[38;5;124myou can use builtins\u001b[39m\u001b[38;5;124m'\u001b[39m\u001b[38;5;124m open.\u001b[39m\u001b[38;5;124m\"\u001b[39m\n\u001b[0;32m    322\u001b[0m     )\n\u001b[1;32m--> 324\u001b[0m \u001b[38;5;28;01mreturn\u001b[39;00m io_open(file, \u001b[38;5;241m*\u001b[39margs, \u001b[38;5;241m*\u001b[39m\u001b[38;5;241m*\u001b[39mkwargs)\n",
      "\u001b[1;31mFileNotFoundError\u001b[0m: [Errno 2] No such file or directory: '/home/hdw/data/monk/plot/warmcorona/test/test_smooth_10_6/data_calspec/Xspec_flux.txt'"
     ]
    }
   ],
   "source": [
    "import numpy as np\n",
    "\n",
    "# ✅ 参数配置\n",
    "base_dir = \"/home/hdw/data/monk/plot/warmcorona/test/test_smooth_10_6/data_calspec_1000\"\n",
    "te_start = 0.100\n",
    "te_end = 2.000\n",
    "te_step = 0.1\n",
    "\n",
    "tau_start = 10.0\n",
    "tau_end = 15.0\n",
    "tau_step = 0.1  # 注意：从大到小，需要负步长！\n",
    "\n",
    "# ✅ 输出路径\n",
    "output_file = \"/home/hdw/data/monk/plot/warmcorona/test/test_smooth_10_6/data_calspec/Xspec_flux.txt\"\n",
    "\n",
    "# ✅ 路径生成\n",
    "lines = []\n",
    "te_values = np.arange(te_start, te_end + te_step / 2, te_step)\n",
    "tau_values = np.arange(tau_start, tau_end + abs(tau_step) / 2, tau_step)\n",
    "\n",
    "for te in te_values:\n",
    "    for tau in tau_values:\n",
    "        subdir = f\"te_{te:.3f}_tau_{tau:.3f}\"\n",
    "        calspec_dir = f\"{base_dir}/{subdir}/calspec\"\n",
    "        lines.append(f\"{calspec_dir}/flux.dat\")\n",
    "        lines.append(f\"{calspec_dir}/en.dat\")\n",
    "        lines.append(f\"{calspec_dir}/de.dat\")\n",
    "        lines.append(\"\")  # 空行分隔每组\n",
    "\n",
    "# ✅ 写入文件\n",
    "with open(output_file, \"w\") as f:\n",
    "    f.write(\"\\n\".join(lines))\n",
    "\n",
    "print(f\"文件已保存到: {output_file}\")\n"
   ]
  },
  {
   "cell_type": "code",
   "execution_count": null,
   "id": "030cadce-6d34-4bae-aa14-fc043c9030da",
   "metadata": {},
   "outputs": [],
   "source": []
  }
 ],
 "metadata": {
  "kernelspec": {
   "display_name": "Python 3 (ipykernel)",
   "language": "python",
   "name": "python3"
  },
  "language_info": {
   "codemirror_mode": {
    "name": "ipython",
    "version": 3
   },
   "file_extension": ".py",
   "mimetype": "text/x-python",
   "name": "python",
   "nbconvert_exporter": "python",
   "pygments_lexer": "ipython3",
   "version": "3.12.3"
  }
 },
 "nbformat": 4,
 "nbformat_minor": 5
}
