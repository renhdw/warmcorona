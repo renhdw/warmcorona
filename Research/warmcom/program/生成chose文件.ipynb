{
 "cells": [
  {
   "cell_type": "code",
   "execution_count": 1,
   "id": "93f7b4e8-b3ca-4f94-bd03-541159dd2b4b",
   "metadata": {},
   "outputs": [
    {
     "name": "stdout",
     "output_type": "stream",
     "text": [
      "✅ 生成完成，共输出至文件：\\\\wsl.localhost\\Ubuntu-22.04\\home\\hdw\\data\\monk\\plot\\warmcorona\\test\\test_smooth_10_6\\data_calspec_1000\\chose.log\n"
     ]
    }
   ],
   "source": [
    "# 参数设置（你可以根据需要修改）\n",
    "te_start = 0.100      # te 起始值\n",
    "te_end = 0.200         # te 终止值（包含）\n",
    "te_step = 0.100       # te 步长\n",
    "\n",
    "tau_start = 10.0      # tau 起始值\n",
    "tau_end = 11.0        # tau 终止值（包含）\n",
    "tau_step = 0.1        # tau 步长\n",
    "\n",
    "# 输出文件名\n",
    "output_file = r'\\\\wsl.localhost\\Ubuntu-22.04\\home\\hdw\\data\\monk\\plot\\warmcorona\\test\\test_smooth_10_6\\data_calspec_1000\\chose.log'\n",
    "\n",
    "# 写入文件\n",
    "with open(output_file, \"w\") as f:\n",
    "    # 写入三行空白行\n",
    "    f.write(\"\\n\\n\\n\")\n",
    "    \n",
    "    te = te_start\n",
    "    while te <= te_end + 1e-6:\n",
    "        tau = tau_start\n",
    "        while tau <= tau_end + 1e-6:\n",
    "            line = f\"te_{te:.3f}_tau_{tau:.3f}\\n\"\n",
    "            f.write(line)\n",
    "            tau += tau_step\n",
    "        te += te_step\n",
    "\n",
    "print(f\"✅ 生成完成，共输出至文件：{output_file}\")\n"
   ]
  },
  {
   "cell_type": "code",
   "execution_count": null,
   "id": "64adb497-be6c-46ce-bc53-57be415bbb06",
   "metadata": {},
   "outputs": [],
   "source": []
  }
 ],
 "metadata": {
  "kernelspec": {
   "display_name": "Python 3 (ipykernel)",
   "language": "python",
   "name": "python3"
  },
  "language_info": {
   "codemirror_mode": {
    "name": "ipython",
    "version": 3
   },
   "file_extension": ".py",
   "mimetype": "text/x-python",
   "name": "python",
   "nbconvert_exporter": "python",
   "pygments_lexer": "ipython3",
   "version": "3.12.3"
  }
 },
 "nbformat": 4,
 "nbformat_minor": 5
}
