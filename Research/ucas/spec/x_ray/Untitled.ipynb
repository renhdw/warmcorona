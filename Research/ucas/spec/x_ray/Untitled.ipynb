{
 "cells": [
  {
   "cell_type": "code",
   "execution_count": 9,
   "id": "ae4020c8-9f89-4997-8ec8-073c8d587d05",
   "metadata": {},
   "outputs": [
    {
     "name": "stdout",
     "output_type": "stream",
     "text": [
      "HR 1099 双温 vapec 模型参数与发射量度（EM）:\n",
      "==================================================\n",
      "Component  kT (keV)   log T (K)    norm            EM (10^51 cm^-3)\n",
      "--------------------------------------------------\n",
      "vapec 1    1.257      7.164        3.503e-03       35.247\n",
      "vapec 2    0.660      6.884        1.860e-03       18.721\n"
     ]
    }
   ],
   "source": [
    "import numpy as np\n",
    "\n",
    "# HR 1099 距离（pc → cm）\n",
    "D_pc = 29\n",
    "D_cm = D_pc * 3.0857e18  # parsec to cm\n",
    "\n",
    "# vapec 模型的 norm 值\n",
    "norm1 = 3.50272e-3\n",
    "norm2 = 1.86044e-3\n",
    "\n",
    "# EM 计算公式\n",
    "EM1 = norm1 * 4 * np.pi * D_cm**2 * 1e14\n",
    "EM2 = norm2 * 4 * np.pi * D_cm**2 * 1e14\n",
    "\n",
    "# 单位换算：转为 10^53 cm^-3\n",
    "EM1_scaled = EM1 / 1e51\n",
    "EM2_scaled = EM2 / 1e51\n",
    "\n",
    "# 温度（keV → log T (K)）\n",
    "kT1 = 1.25677\n",
    "kT2 = 0.659514\n",
    "logT1 = np.log10(kT1 * 1.16e7)\n",
    "logT2 = np.log10(kT2 * 1.16e7)\n",
    "\n",
    "# 输出结果\n",
    "print(\"HR 1099 双温 vapec 模型参数与发射量度（EM）:\")\n",
    "print(\"=\" * 50)\n",
    "print(f\"{'Component':<10} {'kT (keV)':<10} {'log T (K)':<12} {'norm':<15} {'EM (10^51 cm^-3)'}\")\n",
    "print(\"-\" * 50)\n",
    "print(f\"{'vapec 1':<10} {kT1:<10.3f} {logT1:<12.3f} {norm1:<15.3e} {EM1_scaled:.3f}\")\n",
    "print(f\"{'vapec 2':<10} {kT2:<10.3f} {logT2:<12.3f} {norm2:<15.3e} {EM2_scaled:.3f}\")\n"
   ]
  },
  {
   "cell_type": "code",
   "execution_count": 7,
   "id": "6671e62a-be73-47af-909b-09915c4f3211",
   "metadata": {},
   "outputs": [
    {
     "name": "stdout",
     "output_type": "stream",
     "text": [
      "文献格式：f = 124.6 ± 72.3  (单位：10⁻⁶ photons cm⁻² s⁻¹)\n"
     ]
    }
   ],
   "source": [
    "def convert_norm_to_f(norm, norm_err=None):\n",
    "    \"\"\"\n",
    "    将 XSPEC 中的 norm（photons/cm²/s）转换成文献格式 f（×10⁻⁶ photons/cm²/s）\n",
    "    \"\"\"\n",
    "    f = norm * 1e6\n",
    "    if norm_err is not None:\n",
    "        f_err = norm_err * 1e6\n",
    "        return f, f_err\n",
    "    return f\n",
    "\n",
    "# 示例输入\n",
    "norm = 1.24648e-4\n",
    "norm_err = 7.22686e-5\n",
    "\n",
    "# 转换\n",
    "f, f_err = convert_norm_to_f(norm, norm_err)\n",
    "\n",
    "# 打印结果\n",
    "print(f\"文献格式：f = {f:.1f} ± {f_err:.1f}  (单位：10⁻⁶ photons cm⁻² s⁻¹)\")\n"
   ]
  },
  {
   "cell_type": "code",
   "execution_count": null,
   "id": "9a8ae9e7-32ae-473a-8c98-7e7717ad240c",
   "metadata": {},
   "outputs": [],
   "source": []
  }
 ],
 "metadata": {
  "kernelspec": {
   "display_name": "Python 3 (ipykernel)",
   "language": "python",
   "name": "python3"
  },
  "language_info": {
   "codemirror_mode": {
    "name": "ipython",
    "version": 3
   },
   "file_extension": ".py",
   "mimetype": "text/x-python",
   "name": "python",
   "nbconvert_exporter": "python",
   "pygments_lexer": "ipython3",
   "version": "3.12.3"
  }
 },
 "nbformat": 4,
 "nbformat_minor": 5
}
